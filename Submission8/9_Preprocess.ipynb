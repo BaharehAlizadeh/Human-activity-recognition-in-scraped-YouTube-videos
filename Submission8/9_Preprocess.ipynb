{
  "nbformat": 4,
  "nbformat_minor": 0,
  "metadata": {
    "colab": {
      "name": "3_Preprocess.ipynb",
      "provenance": [],
      "collapsed_sections": [],
      "machine_shape": "hm"
    },
    "kernelspec": {
      "name": "python3",
      "display_name": "Python 3"
    },
    "accelerator": "GPU"
  },
  "cells": [
    {
      "cell_type": "code",
      "metadata": {
        "id": "SZktJGLVrKKL",
        "colab": {
          "base_uri": "https://localhost:8080/"
        },
        "outputId": "6758283f-423a-4372-ae0e-723e9da50c6c"
      },
      "source": [
        "%tensorflow_version 1.x"
      ],
      "execution_count": 1,
      "outputs": [
        {
          "output_type": "stream",
          "text": [
            "TensorFlow 1.x selected.\n"
          ],
          "name": "stdout"
        }
      ]
    },
    {
      "cell_type": "code",
      "metadata": {
        "id": "bMawx7IHFuhC",
        "colab": {
          "base_uri": "https://localhost:8080/"
        },
        "outputId": "c296cce0-cae8-45d5-9afe-2af81ea54472"
      },
      "source": [
        "pip install pytictoc"
      ],
      "execution_count": 2,
      "outputs": [
        {
          "output_type": "stream",
          "text": [
            "Collecting pytictoc\n",
            "  Downloading https://files.pythonhosted.org/packages/17/fa/c60631a899d6bb370f58d4cd95162ec3c204cd3987f2d65bd7c6a3270dd5/pytictoc-1.5.1-py2.py3-none-any.whl\n",
            "Installing collected packages: pytictoc\n",
            "Successfully installed pytictoc-1.5.1\n"
          ],
          "name": "stdout"
        }
      ]
    },
    {
      "cell_type": "code",
      "metadata": {
        "id": "NvJO5edZF-y6",
        "colab": {
          "base_uri": "https://localhost:8080/"
        },
        "outputId": "effd0cc6-00d6-41e5-8641-001dc216bf7d"
      },
      "source": [
        "import numpy as np\n",
        "import keras\n",
        "import sklearn as sk\n",
        "import cv2\n",
        "from keras.applications.resnet import ResNet50\n",
        "from keras.utils.vis_utils import plot_model\n",
        "from keras.models import Model\n",
        "from keras.layers import Input, Dense, Flatten\n",
        "import pytictoc\n",
        "import math\n",
        "import matplotlib.pyplot as plt\n",
        "from sklearn.model_selection import train_test_split\n",
        "import glob\n",
        "import os"
      ],
      "execution_count": 3,
      "outputs": [
        {
          "output_type": "stream",
          "text": [
            "Using TensorFlow backend.\n"
          ],
          "name": "stderr"
        }
      ]
    },
    {
      "cell_type": "code",
      "metadata": {
        "id": "PSXlyzFatUQT",
        "colab": {
          "base_uri": "https://localhost:8080/"
        },
        "outputId": "8ce6610d-e437-4ff5-b282-ebb80bf8b8df"
      },
      "source": [
        "from google.colab import drive\n",
        "drive.mount('/content/drive', force_remount=True)"
      ],
      "execution_count": 4,
      "outputs": [
        {
          "output_type": "stream",
          "text": [
            "Mounted at /content/drive\n"
          ],
          "name": "stdout"
        }
      ]
    },
    {
      "cell_type": "code",
      "metadata": {
        "id": "Ovj2TQovt5in",
        "colab": {
          "base_uri": "https://localhost:8080/"
        },
        "outputId": "85697b3f-78c9-4675-e208-3c9c86aa719a"
      },
      "source": [
        "time_print = pytictoc.TicToc()\n",
        "time_print.tic()\n",
        "videos = []\n",
        "labels_2d = []\n",
        "num_frames = 100\n",
        "frame_rate = 5\n",
        "time_3d = []\n",
        "time_2d = []\n",
        "############################# Videos with label = 1\n",
        "i=0\n",
        "for path in glob.glob('/content/drive/My Drive/CSCE636/9_training_2/1/*.mp4'):\n",
        "  \n",
        "  vidcap = cv2.VideoCapture(path)\n",
        "  fps = vidcap.get(cv2.CAP_PROP_FPS)\n",
        "  success, image = vidcap.read()\n",
        "  frames = []\n",
        "  \n",
        "\n",
        "  time = []\n",
        "  count = 0  # control to have the same number of frames\n",
        "  count_fps = 0\n",
        "  while success:\n",
        "    \n",
        "    \n",
        "    success, image = vidcap.read()\n",
        "    count += 1\n",
        "    if(type(image).__module__ == np.__name__):\n",
        "      new_image = cv2.resize(image, (224,224), interpolation = cv2.INTER_AREA)\n",
        "      \n",
        "      frames.append(new_image)\n",
        "      time.append(count_fps*(1/fps))\n",
        "      count_fps += 1\n",
        "      if count==num_frames:\n",
        "        count_fps = 0\n",
        "        print(\"Frames_\", str(count),\", video_\", str(i), \"Done, Time_Elapsed: \", str(round(time_print.tocvalue(),3)), \" Seconds\")\n",
        "        videos.append(frames)\n",
        "        time_3d.append(time)\n",
        "        count = 0\n",
        "        frames = []\n",
        "        time = []\n",
        "\n",
        "  if (count < num_frames):\n",
        "    while (count > 0 and count <= num_frames):\n",
        "      frames.append(new_image)    # if the number of frames is lower than the num_frames, repeat the last image to reach num_frames\n",
        "      count +=1\n",
        "      time.append(count_fps*(1/fps))\n",
        "      count_fps += 1\n",
        "      \n",
        "    videos.append(frames)\n",
        "    time_3d.append(time)\n",
        "  \n",
        "  i+=1\n",
        "  print(\"Video_\", str(i),\"Done, Time_Elapsed: \", str(round(time_print.tocvalue(),3)), \" Seconds\")\n",
        "\n",
        "\n",
        "videos_2d_len = len(videos)\n",
        "\n",
        "############################# Videos with label = 0\n",
        "i=0\n",
        "for path in glob.glob('/content/drive/My Drive/CSCE636/9_training_2/0/*.mp4'):\n",
        "  if(i == 219):\n",
        "    break\n",
        "  \n",
        "  vidcap = cv2.VideoCapture(path)\n",
        "  fps = vidcap.get(cv2.CAP_PROP_FPS)\n",
        "  success, image = vidcap.read()\n",
        "  frames = []\n",
        "  \n",
        "  time = []\n",
        "  count = 0  # control to have the same number of frames\n",
        "  count_fps = 0\n",
        "  while success:\n",
        "    \n",
        "    success, image = vidcap.read()\n",
        "    count += 1\n",
        "    if(type(image).__module__ == np.__name__):\n",
        "      new_image = cv2.resize(image, (224,224), interpolation = cv2.INTER_AREA)\n",
        "    \n",
        "      frames.append(new_image)\n",
        "      time.append(count_fps*(1/fps))\n",
        "      count_fps += 1\n",
        "      if count==num_frames:\n",
        "        count_fps = 0\n",
        "        print(\"Frames_\", str(count),\", video_\", str(i), \"Done, Time_Elapsed: \", str(round(time_print.tocvalue(),3)), \" Seconds\")\n",
        "        videos.append(frames)\n",
        "        time_3d.append(time)\n",
        "        count = 0\n",
        "        frames = []\n",
        "        time = []\n",
        "\n",
        "\n",
        "  if (count < num_frames):\n",
        "    while (count > 0 and count <= num_frames):\n",
        "      frames.append(new_image)    # if the number of frames is lower than the num_frames, repeat the last image to reach num_frames\n",
        "      count +=1\n",
        "      time.append(count_fps*(1/fps))\n",
        "      count_fps += 1\n",
        "      \n",
        "    videos.append(frames)\n",
        "    time_3d.append(time)\n",
        "\n",
        "  i+=1\n",
        "  print(\"Video_\", str(i),\"Done, Time_Elapsed: \", str(round(time_print.tocvalue(),3)), \" Seconds\")\n",
        "\n",
        "videos_3d = np.array(videos)\n",
        "\n",
        "labels_2d = np.zeros((len(videos_3d),num_frames))\n",
        "labels_2d[0:videos_2d_len,:] = 1\n",
        "\n",
        "time_3d = np.array(time_3d)"
      ],
      "execution_count": 5,
      "outputs": [
        {
          "output_type": "stream",
          "text": [
            "Video_ 1 Done, Time_Elapsed:  2.969  Seconds\n",
            "Video_ 2 Done, Time_Elapsed:  4.468  Seconds\n",
            "Video_ 3 Done, Time_Elapsed:  6.177  Seconds\n",
            "Video_ 4 Done, Time_Elapsed:  7.583  Seconds\n",
            "Video_ 5 Done, Time_Elapsed:  9.341  Seconds\n",
            "Video_ 6 Done, Time_Elapsed:  10.832  Seconds\n",
            "Video_ 7 Done, Time_Elapsed:  12.311  Seconds\n",
            "Video_ 8 Done, Time_Elapsed:  13.667  Seconds\n",
            "Video_ 9 Done, Time_Elapsed:  15.097  Seconds\n",
            "Video_ 10 Done, Time_Elapsed:  16.241  Seconds\n",
            "Video_ 11 Done, Time_Elapsed:  17.253  Seconds\n",
            "Video_ 12 Done, Time_Elapsed:  17.991  Seconds\n",
            "Video_ 13 Done, Time_Elapsed:  18.644  Seconds\n",
            "Video_ 14 Done, Time_Elapsed:  19.895  Seconds\n",
            "Video_ 15 Done, Time_Elapsed:  21.44  Seconds\n",
            "Video_ 16 Done, Time_Elapsed:  22.916  Seconds\n",
            "Video_ 17 Done, Time_Elapsed:  24.592  Seconds\n",
            "Video_ 18 Done, Time_Elapsed:  26.23  Seconds\n",
            "Video_ 19 Done, Time_Elapsed:  28.523  Seconds\n",
            "Video_ 20 Done, Time_Elapsed:  29.311  Seconds\n",
            "Video_ 21 Done, Time_Elapsed:  29.956  Seconds\n",
            "Video_ 22 Done, Time_Elapsed:  30.618  Seconds\n",
            "Video_ 23 Done, Time_Elapsed:  31.375  Seconds\n",
            "Video_ 24 Done, Time_Elapsed:  31.979  Seconds\n",
            "Video_ 25 Done, Time_Elapsed:  32.621  Seconds\n",
            "Video_ 26 Done, Time_Elapsed:  34.016  Seconds\n",
            "Video_ 27 Done, Time_Elapsed:  35.157  Seconds\n",
            "Video_ 28 Done, Time_Elapsed:  36.303  Seconds\n",
            "Video_ 29 Done, Time_Elapsed:  37.703  Seconds\n",
            "Video_ 30 Done, Time_Elapsed:  39.888  Seconds\n",
            "Video_ 31 Done, Time_Elapsed:  41.411  Seconds\n",
            "Video_ 32 Done, Time_Elapsed:  43.11  Seconds\n",
            "Video_ 33 Done, Time_Elapsed:  44.735  Seconds\n",
            "Video_ 34 Done, Time_Elapsed:  46.344  Seconds\n",
            "Video_ 35 Done, Time_Elapsed:  47.852  Seconds\n",
            "Video_ 36 Done, Time_Elapsed:  49.416  Seconds\n",
            "Video_ 37 Done, Time_Elapsed:  50.298  Seconds\n",
            "Video_ 38 Done, Time_Elapsed:  52.323  Seconds\n",
            "Video_ 39 Done, Time_Elapsed:  54.726  Seconds\n",
            "Video_ 40 Done, Time_Elapsed:  57.66  Seconds\n",
            "Video_ 41 Done, Time_Elapsed:  61.13  Seconds\n",
            "Video_ 42 Done, Time_Elapsed:  63.427  Seconds\n",
            "Video_ 43 Done, Time_Elapsed:  66.149  Seconds\n",
            "Video_ 44 Done, Time_Elapsed:  68.383  Seconds\n",
            "Video_ 45 Done, Time_Elapsed:  70.702  Seconds\n",
            "Video_ 46 Done, Time_Elapsed:  72.183  Seconds\n",
            "Video_ 47 Done, Time_Elapsed:  73.909  Seconds\n",
            "Video_ 48 Done, Time_Elapsed:  75.333  Seconds\n",
            "Video_ 49 Done, Time_Elapsed:  76.51  Seconds\n",
            "Video_ 50 Done, Time_Elapsed:  78.132  Seconds\n",
            "Video_ 51 Done, Time_Elapsed:  79.48  Seconds\n",
            "Video_ 52 Done, Time_Elapsed:  80.569  Seconds\n",
            "Video_ 53 Done, Time_Elapsed:  81.652  Seconds\n",
            "Video_ 54 Done, Time_Elapsed:  83.741  Seconds\n",
            "Video_ 55 Done, Time_Elapsed:  85.852  Seconds\n",
            "Video_ 56 Done, Time_Elapsed:  88.352  Seconds\n",
            "Video_ 57 Done, Time_Elapsed:  90.386  Seconds\n",
            "Video_ 58 Done, Time_Elapsed:  92.431  Seconds\n",
            "Video_ 59 Done, Time_Elapsed:  94.51  Seconds\n",
            "Video_ 60 Done, Time_Elapsed:  96.563  Seconds\n",
            "Video_ 61 Done, Time_Elapsed:  98.098  Seconds\n",
            "Video_ 62 Done, Time_Elapsed:  99.542  Seconds\n",
            "Video_ 63 Done, Time_Elapsed:  101.138  Seconds\n",
            "Video_ 64 Done, Time_Elapsed:  102.558  Seconds\n",
            "Video_ 65 Done, Time_Elapsed:  104.081  Seconds\n",
            "Video_ 66 Done, Time_Elapsed:  106.227  Seconds\n",
            "Video_ 67 Done, Time_Elapsed:  107.831  Seconds\n",
            "Video_ 68 Done, Time_Elapsed:  109.408  Seconds\n",
            "Video_ 69 Done, Time_Elapsed:  110.885  Seconds\n",
            "Video_ 70 Done, Time_Elapsed:  112.054  Seconds\n",
            "Video_ 71 Done, Time_Elapsed:  113.668  Seconds\n",
            "Video_ 72 Done, Time_Elapsed:  115.222  Seconds\n",
            "Video_ 73 Done, Time_Elapsed:  119.131  Seconds\n",
            "Video_ 74 Done, Time_Elapsed:  120.284  Seconds\n",
            "Video_ 75 Done, Time_Elapsed:  120.82  Seconds\n",
            "Video_ 76 Done, Time_Elapsed:  122.328  Seconds\n",
            "Video_ 77 Done, Time_Elapsed:  123.542  Seconds\n",
            "Video_ 78 Done, Time_Elapsed:  125.006  Seconds\n",
            "Video_ 79 Done, Time_Elapsed:  126.497  Seconds\n",
            "Video_ 80 Done, Time_Elapsed:  129.274  Seconds\n",
            "Video_ 81 Done, Time_Elapsed:  131.079  Seconds\n",
            "Video_ 82 Done, Time_Elapsed:  132.617  Seconds\n",
            "Video_ 83 Done, Time_Elapsed:  134.815  Seconds\n",
            "Video_ 84 Done, Time_Elapsed:  136.35  Seconds\n",
            "Video_ 1 Done, Time_Elapsed:  137.869  Seconds\n",
            "Video_ 2 Done, Time_Elapsed:  139.277  Seconds\n",
            "Video_ 3 Done, Time_Elapsed:  140.793  Seconds\n",
            "Video_ 4 Done, Time_Elapsed:  142.343  Seconds\n",
            "Video_ 5 Done, Time_Elapsed:  143.868  Seconds\n",
            "Video_ 6 Done, Time_Elapsed:  145.373  Seconds\n",
            "Video_ 7 Done, Time_Elapsed:  147.018  Seconds\n",
            "Video_ 8 Done, Time_Elapsed:  148.549  Seconds\n",
            "Video_ 9 Done, Time_Elapsed:  149.996  Seconds\n",
            "Video_ 10 Done, Time_Elapsed:  151.154  Seconds\n",
            "Video_ 11 Done, Time_Elapsed:  152.667  Seconds\n",
            "Video_ 12 Done, Time_Elapsed:  153.743  Seconds\n",
            "Video_ 13 Done, Time_Elapsed:  155.222  Seconds\n",
            "Video_ 14 Done, Time_Elapsed:  156.811  Seconds\n",
            "Video_ 15 Done, Time_Elapsed:  157.876  Seconds\n",
            "Video_ 16 Done, Time_Elapsed:  159.078  Seconds\n",
            "Video_ 17 Done, Time_Elapsed:  160.574  Seconds\n",
            "Video_ 18 Done, Time_Elapsed:  162.052  Seconds\n",
            "Video_ 19 Done, Time_Elapsed:  163.478  Seconds\n",
            "Video_ 20 Done, Time_Elapsed:  164.841  Seconds\n",
            "Video_ 21 Done, Time_Elapsed:  166.663  Seconds\n",
            "Video_ 22 Done, Time_Elapsed:  168.07  Seconds\n",
            "Video_ 23 Done, Time_Elapsed:  169.351  Seconds\n",
            "Video_ 24 Done, Time_Elapsed:  170.874  Seconds\n",
            "Video_ 25 Done, Time_Elapsed:  172.365  Seconds\n",
            "Video_ 26 Done, Time_Elapsed:  173.74  Seconds\n",
            "Video_ 27 Done, Time_Elapsed:  174.897  Seconds\n",
            "Video_ 28 Done, Time_Elapsed:  176.295  Seconds\n",
            "Video_ 29 Done, Time_Elapsed:  177.384  Seconds\n",
            "Video_ 30 Done, Time_Elapsed:  178.948  Seconds\n",
            "Video_ 31 Done, Time_Elapsed:  180.431  Seconds\n",
            "Video_ 32 Done, Time_Elapsed:  182.035  Seconds\n",
            "Video_ 33 Done, Time_Elapsed:  183.111  Seconds\n",
            "Video_ 34 Done, Time_Elapsed:  184.52  Seconds\n",
            "Video_ 35 Done, Time_Elapsed:  186.224  Seconds\n",
            "Video_ 36 Done, Time_Elapsed:  187.724  Seconds\n",
            "Video_ 37 Done, Time_Elapsed:  188.81  Seconds\n",
            "Video_ 38 Done, Time_Elapsed:  189.955  Seconds\n",
            "Video_ 39 Done, Time_Elapsed:  192.126  Seconds\n",
            "Video_ 40 Done, Time_Elapsed:  194.27  Seconds\n",
            "Video_ 41 Done, Time_Elapsed:  195.8  Seconds\n",
            "Video_ 42 Done, Time_Elapsed:  197.9  Seconds\n",
            "Video_ 43 Done, Time_Elapsed:  199.548  Seconds\n",
            "Video_ 44 Done, Time_Elapsed:  200.965  Seconds\n",
            "Video_ 45 Done, Time_Elapsed:  202.439  Seconds\n",
            "Video_ 46 Done, Time_Elapsed:  203.937  Seconds\n",
            "Video_ 47 Done, Time_Elapsed:  205.509  Seconds\n",
            "Video_ 48 Done, Time_Elapsed:  206.982  Seconds\n",
            "Video_ 49 Done, Time_Elapsed:  208.424  Seconds\n",
            "Video_ 50 Done, Time_Elapsed:  210.069  Seconds\n",
            "Video_ 51 Done, Time_Elapsed:  211.493  Seconds\n",
            "Video_ 52 Done, Time_Elapsed:  213.154  Seconds\n",
            "Video_ 53 Done, Time_Elapsed:  215.024  Seconds\n",
            "Video_ 54 Done, Time_Elapsed:  217.262  Seconds\n",
            "Video_ 55 Done, Time_Elapsed:  218.727  Seconds\n",
            "Video_ 56 Done, Time_Elapsed:  220.205  Seconds\n",
            "Video_ 57 Done, Time_Elapsed:  221.382  Seconds\n",
            "Video_ 58 Done, Time_Elapsed:  222.891  Seconds\n",
            "Video_ 59 Done, Time_Elapsed:  224.452  Seconds\n",
            "Video_ 60 Done, Time_Elapsed:  226.241  Seconds\n",
            "Video_ 61 Done, Time_Elapsed:  227.304  Seconds\n",
            "Video_ 62 Done, Time_Elapsed:  228.712  Seconds\n",
            "Video_ 63 Done, Time_Elapsed:  230.172  Seconds\n",
            "Video_ 64 Done, Time_Elapsed:  231.75  Seconds\n",
            "Video_ 65 Done, Time_Elapsed:  232.384  Seconds\n",
            "Video_ 66 Done, Time_Elapsed:  233.44  Seconds\n",
            "Video_ 67 Done, Time_Elapsed:  234.531  Seconds\n",
            "Video_ 68 Done, Time_Elapsed:  235.574  Seconds\n",
            "Video_ 69 Done, Time_Elapsed:  236.669  Seconds\n",
            "Video_ 70 Done, Time_Elapsed:  237.717  Seconds\n",
            "Video_ 71 Done, Time_Elapsed:  238.74  Seconds\n",
            "Video_ 72 Done, Time_Elapsed:  239.824  Seconds\n",
            "Video_ 73 Done, Time_Elapsed:  240.875  Seconds\n",
            "Video_ 74 Done, Time_Elapsed:  242.27  Seconds\n",
            "Video_ 75 Done, Time_Elapsed:  243.656  Seconds\n",
            "Video_ 76 Done, Time_Elapsed:  245.051  Seconds\n",
            "Video_ 77 Done, Time_Elapsed:  246.782  Seconds\n",
            "Video_ 78 Done, Time_Elapsed:  248.165  Seconds\n",
            "Video_ 79 Done, Time_Elapsed:  249.256  Seconds\n",
            "Video_ 80 Done, Time_Elapsed:  250.729  Seconds\n",
            "Video_ 81 Done, Time_Elapsed:  252.102  Seconds\n",
            "Video_ 82 Done, Time_Elapsed:  253.611  Seconds\n",
            "Video_ 83 Done, Time_Elapsed:  255.057  Seconds\n",
            "Video_ 84 Done, Time_Elapsed:  256.543  Seconds\n",
            "Video_ 85 Done, Time_Elapsed:  258.049  Seconds\n"
          ],
          "name": "stdout"
        }
      ]
    },
    {
      "cell_type": "markdown",
      "metadata": {
        "id": "BRpHp8pHcc9m"
      },
      "source": [
        "All videos will be converted to frames and saved as numpy files\n",
        "\n",
        "\n"
      ]
    },
    {
      "cell_type": "code",
      "metadata": {
        "id": "hNOItY6MlXFs"
      },
      "source": [
        "#Correcting shapes of images\n",
        "ind = list(np.random.randint(0,len(videos_3d)-1,size=len(videos_3d)))\n",
        "videos_3d_temp = videos_3d[ind]\n",
        "videos_2d_shuffled = np.reshape(videos_3d_temp, (-1,224,224,3))\n",
        "videos_2d_shuffled = videos_2d_shuffled[:len(videos_2d_shuffled):frame_rate]\n",
        "\n",
        "time_3d_temp = time_3d[ind]\n",
        "time_2d_shuffled = np.reshape(time_3d_temp, (-1,1))\n",
        "time_2d_shuffled = time_2d_shuffled[:len(time_2d_shuffled):frame_rate]\n",
        "time_2d_shuffled = time_2d_shuffled.T[0]\n",
        "\n",
        "labels_2d_temp = labels_2d[ind]\n",
        "labels_2d_shuffled = labels_2d_temp.flatten()\n",
        "labels_2d_shuffled = labels_2d_shuffled[:len(labels_2d_shuffled):frame_rate]"
      ],
      "execution_count": 6,
      "outputs": []
    },
    {
      "cell_type": "code",
      "metadata": {
        "id": "_7CVrpfWa4j3"
      },
      "source": [
        "#Saving all the vidoes as npy formats to reduce time for reading video files\n",
        "np.save(\"/content/drive/My Drive/CSCE636/9_Dataset/raw_data.npy\", videos_2d_shuffled)\n",
        "np.save(\"/content/drive/My Drive/CSCE636/9_Dataset/raw_label.npy\", labels_2d_shuffled)\n",
        "np.save(\"/content/drive/My Drive/CSCE636/9_Dataset/times.npy\", time_2d_shuffled)"
      ],
      "execution_count": 7,
      "outputs": []
    },
    {
      "cell_type": "code",
      "metadata": {
        "id": "J4mHPSWJ8HVY",
        "colab": {
          "base_uri": "https://localhost:8080/",
          "height": 84
        },
        "outputId": "99b0d6eb-5239-4ab3-aa36-ff92cf1b039e"
      },
      "source": [
        "pip install pytictoc"
      ],
      "execution_count": null,
      "outputs": [
        {
          "output_type": "stream",
          "text": [
            "Collecting pytictoc\n",
            "  Downloading https://files.pythonhosted.org/packages/d5/cf/87661e4a929be7023172b7684a704df8379d78a2ed1b86cc01a6cd32cd11/pytictoc-1.5.0-py2.py3-none-any.whl\n",
            "Installing collected packages: pytictoc\n",
            "Successfully installed pytictoc-1.5.0\n"
          ],
          "name": "stdout"
        }
      ]
    },
    {
      "cell_type": "code",
      "metadata": {
        "id": "lIU_AHCPOaLa",
        "colab": {
          "base_uri": "https://localhost:8080/"
        },
        "outputId": "41420858-0e39-46a9-b088-24ebb0e7cbee"
      },
      "source": [
        "np.shape(time_3d)"
      ],
      "execution_count": null,
      "outputs": [
        {
          "output_type": "execute_result",
          "data": {
            "text/plain": [
              "(295, 100)"
            ]
          },
          "metadata": {
            "tags": []
          },
          "execution_count": 12
        }
      ]
    },
    {
      "cell_type": "code",
      "metadata": {
        "id": "JzO3mFq55cTs"
      },
      "source": [
        ""
      ],
      "execution_count": null,
      "outputs": []
    }
  ]
}
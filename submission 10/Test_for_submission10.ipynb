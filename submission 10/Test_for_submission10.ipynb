{
  "nbformat": 4,
  "nbformat_minor": 0,
  "metadata": {
    "colab": {
      "name": "Test_for_submission10.ipynb",
      "provenance": [],
      "collapsed_sections": [],
      "machine_shape": "hm"
    },
    "kernelspec": {
      "name": "python3",
      "display_name": "Python 3"
    },
    "accelerator": "GPU"
  },
  "cells": [
    {
      "cell_type": "code",
      "metadata": {
        "id": "lwywmKXKbW4a"
      },
      "source": [
        "import numpy as np\n",
        "import keras\n",
        "import sklearn as sk\n",
        "import cv2\n",
        "from keras.applications.resnet import ResNet152\n",
        "from keras.utils.vis_utils import plot_model\n",
        "from keras.models import Model\n",
        "from keras.layers import Input, Dense, Flatten, LSTM, ConvLSTM2D, Reshape, Conv2D, Dropout, BatchNormalization\n",
        "import math\n",
        "import matplotlib.pyplot as plt\n",
        "from sklearn.model_selection import train_test_split\n",
        "from keras.layers.wrappers import TimeDistributed\n",
        "import glob\n",
        "import os\n",
        "import tensorflow as tf\n",
        "import json\n",
        "import pytictoc\n",
        "from keras.models import model_from_json"
      ],
      "execution_count": null,
      "outputs": []
    },
    {
      "cell_type": "code",
      "metadata": {
        "colab": {
          "base_uri": "https://localhost:8080/"
        },
        "id": "SFCyA4opw0Ji",
        "outputId": "10d239f2-a2b9-4fb4-9f9f-d79ac80e0d85"
      },
      "source": [
        "pip install pytictoc"
      ],
      "execution_count": null,
      "outputs": [
        {
          "output_type": "stream",
          "text": [
            "Collecting pytictoc\n",
            "  Downloading https://files.pythonhosted.org/packages/ec/6b/cdeaeee99094dd07582ee23e2c537721f94a2b34b0b33770dfc66010a0fc/pytictoc-1.5.2-py2.py3-none-any.whl\n",
            "Installing collected packages: pytictoc\n",
            "Successfully installed pytictoc-1.5.2\n"
          ],
          "name": "stdout"
        }
      ]
    },
    {
      "cell_type": "code",
      "metadata": {
        "id": "CEJUbX0iW0Gu",
        "colab": {
          "base_uri": "https://localhost:8080/"
        },
        "outputId": "276b6d2d-0d3e-4ed8-ee8d-47575b232e5d"
      },
      "source": [
        "from google.colab import drive\n",
        "drive.mount('/content/drive')"
      ],
      "execution_count": null,
      "outputs": [
        {
          "output_type": "stream",
          "text": [
            "Mounted at /content/drive\n"
          ],
          "name": "stdout"
        }
      ]
    },
    {
      "cell_type": "code",
      "metadata": {
        "id": "akpsu6BwW5UP",
        "colab": {
          "base_uri": "https://localhost:8080/"
        },
        "outputId": "ab7505c4-79af-4104-af30-ac6da1429cb6"
      },
      "source": [
        "# load json and create model\n",
        "ResNet_152_json_file = open('/content/drive/My Drive/deep learning/Saved_Model/ResNet_152.json', 'r')\n",
        "loaded_model_json = ResNet_152_json_file.read()\n",
        "ResNet_152_json_file.close()\n",
        "ResNet_152_loaded = model_from_json(loaded_model_json)\n",
        "# load weights into new model\n",
        "ResNet_152_loaded.load_weights(\"/content/drive/My Drive/deep learning/Saved_Model/Weights/ResNet_152.h5\")\n",
        "print(\"Loaded model from disk\")"
      ],
      "execution_count": null,
      "outputs": [
        {
          "output_type": "stream",
          "text": [
            "Loaded model from disk\n"
          ],
          "name": "stdout"
        }
      ]
    },
    {
      "cell_type": "code",
      "metadata": {
        "id": "NnEfm638XRxF",
        "colab": {
          "base_uri": "https://localhost:8080/"
        },
        "outputId": "e4bea6d1-9460-4b3b-8f42-3c9f110e5e69"
      },
      "source": [
        "time_print = pytictoc.TicToc()\n",
        "time_print.tic()\n",
        "\n",
        "num_frames = 100\n",
        "frame_rate = 5\n",
        "\n",
        "test_list = []\n",
        "test_time_list = []\n",
        "\n",
        "\n",
        "for path in glob.glob('/content/drive/My Drive/CSCE636/10_test/*.mp4'):\n",
        "  \n",
        "  videos = []\n",
        "  labels_2d = []\n",
        "\n",
        "  time_3d = []\n",
        "  time_2d = []\n",
        "  \n",
        "  vidcap = cv2.VideoCapture(path)\n",
        "  # split vidcap\n",
        "  # for i in split\n",
        "  seconds = int(vidcap.get(cv2.CAP_PROP_FRAME_COUNT) / int(vidcap.get(cv2.CAP_PROP_FPS)))\n",
        "  fps = vidcap.get(cv2.CAP_PROP_FPS)\n",
        "  success, image = vidcap.read()\n",
        "  frames = []\n",
        "  \n",
        "\n",
        "  time = []\n",
        "  count = 0  # control to have the same number of frames\n",
        "  count_fps = 0\n",
        "  while success:\n",
        "    \n",
        "    \n",
        "    success, image = vidcap.read()\n",
        "    count += 1\n",
        "    if(type(image).__module__ == np.__name__):\n",
        "      new_image = cv2.resize(image, (224,224), interpolation = cv2.INTER_AREA)\n",
        "      \n",
        "      frames.append(new_image)\n",
        "      time.append(count_fps*(1/fps))\n",
        "      count_fps += 1\n",
        "      if count==num_frames:\n",
        "        count_fps = 0\n",
        "        print(\"Frames_\", str(count),\", video_\", str(i), \"Done, Time_Elapsed: \", str(round(time_print.tocvalue(),3)), \" Seconds\")\n",
        "        videos.append(frames)\n",
        "        time_3d.append(time)\n",
        "        count = 0\n",
        "        frames = []\n",
        "        time = []\n",
        "\n",
        "  if (count < num_frames):\n",
        "    while (count > 0 and count <= num_frames):\n",
        "      frames.append(new_image)    # if the number of frames is lower than the num_frames, repeat the last image to reach num_frames\n",
        "      count +=1\n",
        "      time.append(count_fps*(1/fps))\n",
        "      count_fps += 1\n",
        "      \n",
        "    videos.append(frames)\n",
        "    time_3d.append(time)\n",
        "  \n",
        "  i+=1\n",
        "  print(\"Video_\", str(i),\"Done, Time_Elapsed: \", str(round(time_print.tocvalue(),3)), \" Seconds\")\n",
        "\n",
        "\n",
        "  videos_2d_len = len(videos)\n",
        "  videos_3d = np.array(videos)\n",
        "\n",
        "  labels_2d = np.zeros((len(videos_3d),num_frames))\n",
        "  labels_2d[0:videos_2d_len,:] = 1\n",
        "\n",
        "  time_3d = np.array(time_3d)\n",
        "\n",
        "  # ind = list(np.random.randint(0,len(videos_3d)-1,size=len(videos_3d)))\n",
        "  videos_3d_temp = videos_3d\n",
        "  videos_2d_shuffled = np.reshape(videos_3d_temp, (-1,224,224,3))\n",
        "  videos_2d_shuffled = videos_2d_shuffled[:len(videos_2d_shuffled):frame_rate]\n",
        "\n",
        "  time_3d_temp = time_3d\n",
        "  time_2d_shuffled = np.reshape(time_3d_temp, (-1,1))\n",
        "  time_2d_shuffled = time_2d_shuffled[:len(time_2d_shuffled):frame_rate]\n",
        "  time_2d_shuffled = time_2d_shuffled.T[0]\n",
        "\n",
        "  labels_2d_temp = labels_2d\n",
        "  labels_2d_shuffled = labels_2d_temp.flatten()\n",
        "  labels_2d_shuffled = labels_2d_shuffled[:len(labels_2d_shuffled):frame_rate]\n",
        "\n",
        "  u_test = ResNet_152_loaded.predict(videos_2d_shuffled)\n",
        "  time_u = np.linspace(0, seconds, num=len(u_test), endpoint=False).reshape(len(u_test),1)\n",
        "  # end_time = time_u[-1]\n",
        "  test_list.append(u_test)\n",
        "  test_time_list.append(time_u+end_time)"
      ],
      "execution_count": null,
      "outputs": [
        {
          "output_type": "stream",
          "text": [
            "Video_ 5 Done, Time_Elapsed:  0.121  Seconds\n",
            "Frames_ 100 , video_ 5 Done, Time_Elapsed:  0.506  Seconds\n",
            "Video_ 6 Done, Time_Elapsed:  0.627  Seconds\n",
            "Video_ 7 Done, Time_Elapsed:  1.062  Seconds\n",
            "Video_ 8 Done, Time_Elapsed:  1.286  Seconds\n",
            "Video_ 9 Done, Time_Elapsed:  1.599  Seconds\n",
            "Frames_ 100 , video_ 9 Done, Time_Elapsed:  2.363  Seconds\n",
            "Frames_ 100 , video_ 9 Done, Time_Elapsed:  2.517  Seconds\n",
            "Video_ 10 Done, Time_Elapsed:  2.659  Seconds\n"
          ],
          "name": "stdout"
        }
      ]
    },
    {
      "cell_type": "code",
      "metadata": {
        "id": "BzEiQqDH3jd4"
      },
      "source": [
        "threshold = 0.9\n",
        "\n",
        "times = []\n",
        "for i in range(len(test_list)):\n",
        "  times.append(test_time_list[i][np.argwhere(test_list[i].reshape(-1)>threshold)].reshape(-1))"
      ],
      "execution_count": null,
      "outputs": []
    },
    {
      "cell_type": "code",
      "metadata": {
        "id": "vhxwcM-pA5JA"
      },
      "source": [
        "#for i in times"
      ],
      "execution_count": null,
      "outputs": []
    },
    {
      "cell_type": "code",
      "metadata": {
        "colab": {
          "base_uri": "https://localhost:8080/"
        },
        "id": "vj9JutAi8kcW",
        "outputId": "24297aee-338c-4d2b-8357-6b043d354e4d"
      },
      "source": [
        "36.4 , 36.6, 36.8"
      ],
      "execution_count": null,
      "outputs": [
        {
          "output_type": "execute_result",
          "data": {
            "text/plain": [
              "0.4"
            ]
          },
          "metadata": {
            "tags": []
          },
          "execution_count": 124
        }
      ]
    },
    {
      "cell_type": "code",
      "metadata": {
        "id": "dnVui2Q0xSaq"
      },
      "source": [
        "time_u = np.linspace(0, seconds, num=len(u_test), endpoint=False).reshape(len(u_test),1)"
      ],
      "execution_count": null,
      "outputs": []
    },
    {
      "cell_type": "code",
      "metadata": {
        "colab": {
          "base_uri": "https://localhost:8080/"
        },
        "id": "bJM4BC763yAA",
        "outputId": "c3911d6d-66a4-4f0a-d25a-889f11822fa4"
      },
      "source": [
        "time_u.shape"
      ],
      "execution_count": null,
      "outputs": [
        {
          "output_type": "execute_result",
          "data": {
            "text/plain": [
              "(60, 1)"
            ]
          },
          "metadata": {
            "tags": []
          },
          "execution_count": 78
        }
      ]
    },
    {
      "cell_type": "code",
      "metadata": {
        "colab": {
          "base_uri": "https://localhost:8080/"
        },
        "id": "CqGkBJv62_2g",
        "outputId": "eb2c362d-3426-4099-9ba7-994d97f23b21"
      },
      "source": [
        "u_test.shape"
      ],
      "execution_count": null,
      "outputs": [
        {
          "output_type": "execute_result",
          "data": {
            "text/plain": [
              "(60, 1)"
            ]
          },
          "metadata": {
            "tags": []
          },
          "execution_count": 67
        }
      ]
    },
    {
      "cell_type": "code",
      "metadata": {
        "id": "tEz1OTe9Xbah"
      },
      "source": [
        "# ind = list(np.random.randint(0,len(videos_3d)-1,size=len(videos_3d)))\n",
        "videos_3d_temp = videos_3d\n",
        "videos_2d_shuffled = np.reshape(videos_3d_temp, (-1,224,224,3))\n",
        "videos_2d_shuffled = videos_2d_shuffled[:len(videos_2d_shuffled):frame_rate]\n",
        "\n",
        "time_3d_temp = time_3d\n",
        "time_2d_shuffled = np.reshape(time_3d_temp, (-1,1))\n",
        "time_2d_shuffled = time_2d_shuffled[:len(time_2d_shuffled):frame_rate]\n",
        "time_2d_shuffled = time_2d_shuffled.T[0]\n",
        "\n",
        "labels_2d_temp = labels_2d\n",
        "labels_2d_shuffled = labels_2d_temp.flatten()\n",
        "labels_2d_shuffled = labels_2d_shuffled[:len(labels_2d_shuffled):frame_rate]"
      ],
      "execution_count": null,
      "outputs": []
    },
    {
      "cell_type": "code",
      "metadata": {
        "id": "053v8SaYXe8s"
      },
      "source": [
        "u_test = ResNet_152_loaded.predict(videos_2d_shuffled)"
      ],
      "execution_count": null,
      "outputs": []
    },
    {
      "cell_type": "code",
      "metadata": {
        "colab": {
          "base_uri": "https://localhost:8080/"
        },
        "id": "52SyNNJlzLSC",
        "outputId": "09bddea5-b00b-405b-b12e-d7d1a5eaf740"
      },
      "source": [
        "u_test\n"
      ],
      "execution_count": null,
      "outputs": [
        {
          "output_type": "execute_result",
          "data": {
            "text/plain": [
              "array([[6.0311060e-05],\n",
              "       [1.8255763e-04],\n",
              "       [2.1175144e-04],\n",
              "       [6.5799861e-05],\n",
              "       [4.2732878e-05],\n",
              "       [2.6140364e-05],\n",
              "       [4.5976234e-05],\n",
              "       [5.3302869e-05],\n",
              "       [4.7883419e-05],\n",
              "       [8.8748566e-05],\n",
              "       [6.5711378e-05],\n",
              "       [9.2546805e-05],\n",
              "       [2.4049358e-04],\n",
              "       [7.6967018e-04],\n",
              "       [5.4192770e-04],\n",
              "       [2.7554377e-04],\n",
              "       [2.1188293e-04],\n",
              "       [1.0091838e-04],\n",
              "       [6.2610913e-04],\n",
              "       [1.1819048e-03],\n",
              "       [2.3163318e-04],\n",
              "       [1.8961723e-04],\n",
              "       [5.1822677e-05],\n",
              "       [2.4471030e-05],\n",
              "       [4.7421767e-05],\n",
              "       [4.8822949e-05],\n",
              "       [4.4714488e-05],\n",
              "       [2.8436445e-05],\n",
              "       [1.8567218e-05],\n",
              "       [1.8566208e-05],\n",
              "       [3.3968146e-05],\n",
              "       [5.6080899e-05],\n",
              "       [6.0860097e-05],\n",
              "       [1.6920717e-04],\n",
              "       [9.3255607e-05],\n",
              "       [1.4906844e-04],\n",
              "       [7.0777765e-05],\n",
              "       [1.7213752e-05],\n",
              "       [1.6135995e-05],\n",
              "       [1.0459035e-05],\n",
              "       [4.0467530e-05],\n",
              "       [2.8751332e-05],\n",
              "       [1.5677375e-05],\n",
              "       [1.7112843e-05],\n",
              "       [2.6724974e-05],\n",
              "       [2.6555927e-05],\n",
              "       [2.3817518e-05],\n",
              "       [1.6807948e-05],\n",
              "       [1.5724467e-05],\n",
              "       [2.2782500e-05],\n",
              "       [1.6855429e-05],\n",
              "       [1.8478066e-05],\n",
              "       [1.6928354e-05],\n",
              "       [1.7540373e-05],\n",
              "       [1.6277723e-05],\n",
              "       [1.6347307e-05],\n",
              "       [1.6347307e-05],\n",
              "       [1.6347307e-05],\n",
              "       [1.6347307e-05],\n",
              "       [1.6347307e-05]], dtype=float32)"
            ]
          },
          "metadata": {
            "tags": []
          },
          "execution_count": 64
        }
      ]
    },
    {
      "cell_type": "code",
      "metadata": {
        "id": "o408Yo9rXi40",
        "colab": {
          "base_uri": "https://localhost:8080/",
          "height": 786
        },
        "outputId": "52ba9aa5-47aa-42c3-a052-2156a741232f"
      },
      "source": [
        "clip_length = int(num_frames/frame_rate)\n",
        "num_vid_parts = int((len(u_test)/clip_length))\n",
        "        \n",
        "num_col = 4\n",
        "num_row = math.ceil(num_vid_parts/num_col)\n",
        "\n",
        "\n",
        "sec_per_batch = 2\n",
        "for i in np.arange(int((len(u_test)/clip_length))):\n",
        "    \n",
        "    plt.figure()\n",
        "    time = time_2d_shuffled[i*clip_length: (i+1)*clip_length] + i*sec_per_batch\n",
        "    plt.subplot(num_row, num_col, i+1)\n",
        "    plt.scatter(x = time, y = u_test[i*clip_length: (i+1)*clip_length])\n",
        "    \n",
        "    if i == 0:\n",
        "        plt.xlabel(\"time (secs)\")\n",
        "        plt.ylabel(\"prediction\")\n",
        "plt.show()  "
      ],
      "execution_count": null,
      "outputs": [
        {
          "output_type": "display_data",
          "data": {
            "image/png": "[encoded data removed]",
            "text/plain": [
              "<Figure size 432x288 with 1 Axes>"
            ]
          },
          "metadata": {
            "tags": [],
            "needs_background": "light"
          }
        },
        {
          "output_type": "display_data",
          "data": {
            "image/png": "[encoded data removed]",
            "text/plain": [
              "<Figure size 432x288 with 1 Axes>"
            ]
          },
          "metadata": {
            "tags": [],
            "needs_background": "light"
          }
        },
        {
          "output_type": "display_data",
          "data": {
            "image/png": "[encoded data removed]",
            "text/plain": [
              "<Figure size 432x288 with 1 Axes>"
            ]
          },
          "metadata": {
            "tags": [],
            "needs_background": "light"
          }
        }
      ]
    }
  ]
}
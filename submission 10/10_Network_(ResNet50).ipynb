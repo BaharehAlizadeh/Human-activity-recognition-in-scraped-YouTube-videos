{
  "nbformat": 4,
  "nbformat_minor": 0,
  "metadata": {
    "colab": {
      "name": "10_Network (ResNet50).ipynb",
      "provenance": [],
      "collapsed_sections": [],
      "machine_shape": "hm"
    },
    "kernelspec": {
      "name": "python3",
      "display_name": "Python 3"
    },
    "accelerator": "GPU"
  },
  "cells": [
    {
      "cell_type": "markdown",
      "metadata": {
        "id": "TyUEl-lJcpDp"
      },
      "source": [
        "Training the model"
      ]
    },
    {
      "cell_type": "code",
      "metadata": {
        "id": "yWVLrvzVjRAI",
        "colab": {
          "base_uri": "https://localhost:8080/"
        },
        "outputId": "fb8abf6b-dd1f-4de0-dddf-06234fd30f67"
      },
      "source": [
        "%tensorflow_version 1.x"
      ],
      "execution_count": null,
      "outputs": [
        {
          "output_type": "stream",
          "text": [
            "TensorFlow 1.x selected.\n"
          ],
          "name": "stdout"
        }
      ]
    },
    {
      "cell_type": "code",
      "metadata": {
        "colab": {
          "base_uri": "https://localhost:8080/"
        },
        "id": "6TtK72rxpFbb",
        "outputId": "3934a2e4-0e69-4b3c-d0a1-a27750964d2b"
      },
      "source": [
        "pip install pytictoc"
      ],
      "execution_count": null,
      "outputs": [
        {
          "output_type": "stream",
          "text": [
            "Requirement already satisfied: pytictoc in /usr/local/lib/python3.7/dist-packages (1.5.1)\n"
          ],
          "name": "stdout"
        }
      ]
    },
    {
      "cell_type": "code",
      "metadata": {
        "id": "lwywmKXKbW4a"
      },
      "source": [
        "import numpy as np\n",
        "import keras\n",
        "import sklearn as sk\n",
        "import cv2\n",
        "from keras.applications.resnet import ResNet50\n",
        "from keras.utils.vis_utils import plot_model\n",
        "from keras.models import Model\n",
        "from keras.layers import Input, Dense, Flatten, LSTM, ConvLSTM2D, Reshape, Conv2D, Dropout, BatchNormalization\n",
        "import math\n",
        "import matplotlib.pyplot as plt\n",
        "from sklearn.model_selection import train_test_split\n",
        "from keras.layers.wrappers import TimeDistributed\n",
        "import glob\n",
        "import os\n",
        "import tensorflow as tf\n",
        "import json\n",
        "from keras.models import model_from_json"
      ],
      "execution_count": null,
      "outputs": []
    },
    {
      "cell_type": "code",
      "metadata": {
        "id": "CRmYVBstwwmY",
        "colab": {
          "base_uri": "https://localhost:8080/"
        },
        "outputId": "582ade00-5fb0-4afd-d838-dcfbf9e0883c"
      },
      "source": [
        "from google.colab import drive\n",
        "drive.mount('/content/drive')"
      ],
      "execution_count": null,
      "outputs": [
        {
          "output_type": "stream",
          "text": [
            "Drive already mounted at /content/drive; to attempt to forcibly remount, call drive.mount(\"/content/drive\", force_remount=True).\n"
          ],
          "name": "stdout"
        }
      ]
    },
    {
      "cell_type": "code",
      "metadata": {
        "id": "Vt4ixqRSbXlf"
      },
      "source": [
        "#Load data with npy formats\n",
        "X = np.load(\"/content/drive/My Drive/CSCE636/10_Dataset/raw_data.npy\")\n",
        "y = np.load(\"/content/drive/My Drive/CSCE636/10_Dataset/raw_label.npy\")\n",
        "times = np.load(\"/content/drive/My Drive/CSCE636/10_Dataset/times.npy\")"
      ],
      "execution_count": null,
      "outputs": []
    },
    {
      "cell_type": "code",
      "metadata": {
        "id": "T3RKJynFhlER",
        "colab": {
          "base_uri": "https://localhost:8080/"
        },
        "outputId": "57b1e8a7-e2f9-4a1e-f4e2-f50a1ef1fb09"
      },
      "source": [
        "len(X)"
      ],
      "execution_count": null,
      "outputs": [
        {
          "output_type": "execute_result",
          "data": {
            "text/plain": [
              "5900"
            ]
          },
          "metadata": {
            "tags": []
          },
          "execution_count": 7
        }
      ]
    },
    {
      "cell_type": "code",
      "metadata": {
        "id": "kogHFAft-d-2"
      },
      "source": [
        "#X = X/255"
      ],
      "execution_count": null,
      "outputs": []
    },
    {
      "cell_type": "code",
      "metadata": {
        "id": "w1dM2X_2btM_"
      },
      "source": [
        "#Generating 20 frames out of each videos\n",
        "num_frames = 20\n",
        "len_X = len(X)\n",
        "num_videos = len_X/num_frames\n",
        "#70% of data splitted for training 30% for testing\n",
        "percentage = 0.7"
      ],
      "execution_count": null,
      "outputs": []
    },
    {
      "cell_type": "code",
      "metadata": {
        "id": "VW_DST9ubNtp"
      },
      "source": [
        "#splitting the data\n",
        "X_train = X[:int(percentage*num_videos)*num_frames]\n",
        "y_train = y[:int(percentage*num_videos)*num_frames]\n",
        "X_test = X[int(percentage*num_videos)*num_frames:]\n",
        "y_test = y[int(percentage*num_videos)*num_frames:]\n",
        "times_train = times[:int(percentage*num_videos)*num_frames]\n",
        "times_test = times[int(percentage*num_videos)*num_frames:]"
      ],
      "execution_count": null,
      "outputs": []
    },
    {
      "cell_type": "code",
      "metadata": {
        "id": "UI4fLk8XZfMZ"
      },
      "source": [
        "#applying transfer learnign (the first layer is removed)\n",
        "ResNet = ResNet50(include_top=False)\n",
        "\n",
        "ResNet50_Model_base = Model(inputs = ResNet.input, outputs = ResNet.get_layer(\"conv5_block3_add\").output)\n",
        "\n",
        "all_layers = ResNet50_Model_base.layers\n",
        "\n",
        "for layer in ResNet50_Model_base.layers:\n",
        "    layer.trainable = False #ResNets weights will not be trained\n",
        "\n",
        "#Assuming the input frames have the Height: 224 and Width: 224 pixels\n",
        "Input_to_ResNet = Input(shape=(224, 224, 3),name = 'ResNet50')\n",
        "\n",
        "ResNet_last_layer = ResNet50_Model_base(Input_to_ResNet)"
      ],
      "execution_count": null,
      "outputs": []
    },
    {
      "cell_type": "code",
      "metadata": {
        "id": "diI2EJ57O189",
        "colab": {
          "base_uri": "https://localhost:8080/"
        },
        "outputId": "0c1d9228-b8af-4cb4-aeda-0279ee9dd4e7"
      },
      "source": [
        "#showing the last layer in ResNet\n",
        "ResNet.output_names"
      ],
      "execution_count": null,
      "outputs": [
        {
          "output_type": "execute_result",
          "data": {
            "text/plain": [
              "['conv5_block3_out']"
            ]
          },
          "metadata": {
            "tags": []
          },
          "execution_count": 9
        }
      ]
    },
    {
      "cell_type": "code",
      "metadata": {
        "id": "eSqbqdrEbbIZ",
        "colab": {
          "base_uri": "https://localhost:8080/",
          "height": 856
        },
        "outputId": "8f3e84f4-d15e-4d22-9b0c-5f38e83a728b"
      },
      "source": [
        "x = ResNet_last_layer #Modified ResNet\n",
        "\n",
        "#Add the fully-connected layers \n",
        "conv_to_LSTM_dims = (1,7,7,2048)\n",
        "x = Reshape(target_shape=conv_to_LSTM_dims, name='reshapeconvtolstm')(x)\n",
        "x = ConvLSTM2D(filters=8, kernel_size=(3, 3), input_shape=(None, 20, 7, 7, 2048), padding='same')(x)  #input_shape=(samples, time, rows, cols, channels)\n",
        "\n",
        "LSTM_to_conv_dims = (7,7,8)\n",
        "x = Reshape(target_shape=LSTM_to_conv_dims, name='reshapelstmtoconv')(x)\n",
        "\n",
        "x = Flatten(name='flatten')(x)\n",
        "x = Dense(512, activation='relu', name='FC1')(x)\n",
        "x = Dense(1024, activation='relu', name='FC2')(x)\n",
        "x = Dense(1, activation='sigmoid', name='Predictions')(x) #1 for binary output\n",
        "ResNet_for_TL = Model(Input_to_ResNet, x)\n",
        "ResNet_for_TL.compile(loss='binary_crossentropy', optimizer='adam', metrics=['accuracy'])\n",
        "\n",
        "plot_model(ResNet_for_TL)"
      ],
      "execution_count": null,
      "outputs": [
        {
          "output_type": "execute_result",
          "data": {
            "image/png": "[encoded data removed]",
            "text/plain": [
              "<IPython.core.display.Image object>"
            ]
          },
          "metadata": {
            "tags": []
          },
          "execution_count": 10
        }
      ]
    },
    {
      "cell_type": "code",
      "metadata": {
        "id": "rqlKw1jzN60e"
      },
      "source": [
        ""
      ],
      "execution_count": null,
      "outputs": []
    },
    {
      "cell_type": "code",
      "metadata": {
        "pycharm": {
          "name": "#%%\n"
        },
        "id": "oMs6ziAGlSsp",
        "colab": {
          "base_uri": "https://localhost:8080/",
          "height": 1000
        },
        "outputId": "754870f3-5392-4891-e82d-6a4bf55e7521"
      },
      "source": [
        "ResNet_for_TL.fit(x=X_train, y = y_train, batch_size=58, epochs=60, validation_data=(X_test, y_test))"
      ],
      "execution_count": null,
      "outputs": [
        {
          "output_type": "stream",
          "text": [
            "Epoch 1/60\n",
            "58/58 [==============================] - 176s 3s/step - loss: 0.7023 - accuracy: 0.5175 - val_loss: 0.6295 - val_accuracy: 0.7083\n",
            "Epoch 2/60\n",
            "58/58 [==============================] - 173s 3s/step - loss: 0.6439 - accuracy: 0.6373 - val_loss: 0.5592 - val_accuracy: 0.7967\n",
            "Epoch 3/60\n",
            "58/58 [==============================] - 175s 3s/step - loss: 0.5763 - accuracy: 0.7488 - val_loss: 0.5038 - val_accuracy: 0.8598\n",
            "Epoch 4/60\n",
            "58/58 [==============================] - 174s 3s/step - loss: 0.5322 - accuracy: 0.8086 - val_loss: 0.4591 - val_accuracy: 0.8801\n",
            "Epoch 5/60\n",
            "58/58 [==============================] - 173s 3s/step - loss: 0.4985 - accuracy: 0.8418 - val_loss: 0.4221 - val_accuracy: 0.8813\n",
            "Epoch 6/60\n",
            "58/58 [==============================] - 172s 3s/step - loss: 0.4675 - accuracy: 0.8522 - val_loss: 0.3916 - val_accuracy: 0.8851\n",
            "Epoch 7/60\n",
            "58/58 [==============================] - 173s 3s/step - loss: 0.4456 - accuracy: 0.8480 - val_loss: 0.3656 - val_accuracy: 0.8889\n",
            "Epoch 8/60\n",
            "58/58 [==============================] - 175s 3s/step - loss: 0.4154 - accuracy: 0.8744 - val_loss: 0.3424 - val_accuracy: 0.8927\n",
            "Epoch 9/60\n",
            "58/58 [==============================] - 177s 3s/step - loss: 0.3736 - accuracy: 0.8850 - val_loss: 0.3236 - val_accuracy: 0.8952\n",
            "Epoch 10/60\n",
            "58/58 [==============================] - 174s 3s/step - loss: 0.3668 - accuracy: 0.8791 - val_loss: 0.3046 - val_accuracy: 0.8977\n",
            "Epoch 11/60\n",
            "58/58 [==============================] - 174s 3s/step - loss: 0.3653 - accuracy: 0.8731 - val_loss: 0.2913 - val_accuracy: 0.9015\n",
            "Epoch 12/60\n",
            "58/58 [==============================] - 174s 3s/step - loss: 0.3459 - accuracy: 0.8899 - val_loss: 0.2783 - val_accuracy: 0.9015\n",
            "Epoch 13/60\n",
            "58/58 [==============================] - 175s 3s/step - loss: 0.3206 - accuracy: 0.8834 - val_loss: 0.2735 - val_accuracy: 0.9078\n",
            "Epoch 14/60\n",
            "58/58 [==============================] - 174s 3s/step - loss: 0.2983 - accuracy: 0.9051 - val_loss: 0.2592 - val_accuracy: 0.9053\n",
            "Epoch 15/60\n",
            "58/58 [==============================] - 174s 3s/step - loss: 0.3137 - accuracy: 0.8982 - val_loss: 0.2500 - val_accuracy: 0.9078\n",
            "Epoch 16/60\n",
            "58/58 [==============================] - 174s 3s/step - loss: 0.3026 - accuracy: 0.8846 - val_loss: 0.2414 - val_accuracy: 0.9104\n",
            "Epoch 17/60\n",
            "58/58 [==============================] - 178s 3s/step - loss: 0.2696 - accuracy: 0.9021 - val_loss: 0.2352 - val_accuracy: 0.9129\n",
            "Epoch 18/60\n",
            "58/58 [==============================] - 174s 3s/step - loss: 0.2658 - accuracy: 0.9061 - val_loss: 0.2299 - val_accuracy: 0.9129\n",
            "Epoch 19/60\n",
            "58/58 [==============================] - 174s 3s/step - loss: 0.2562 - accuracy: 0.8993 - val_loss: 0.2228 - val_accuracy: 0.9141\n",
            "Epoch 20/60\n",
            "58/58 [==============================] - 173s 3s/step - loss: 0.2554 - accuracy: 0.9092 - val_loss: 0.2173 - val_accuracy: 0.9179\n",
            "Epoch 21/60\n",
            "58/58 [==============================] - 174s 3s/step - loss: 0.2496 - accuracy: 0.9049 - val_loss: 0.2117 - val_accuracy: 0.9217\n",
            "Epoch 22/60\n",
            "58/58 [==============================] - 174s 3s/step - loss: 0.2257 - accuracy: 0.9238 - val_loss: 0.2104 - val_accuracy: 0.9230\n",
            "Epoch 23/60\n",
            "58/58 [==============================] - 174s 3s/step - loss: 0.2489 - accuracy: 0.9091 - val_loss: 0.2050 - val_accuracy: 0.9242\n",
            "Epoch 24/60\n",
            "58/58 [==============================] - 174s 3s/step - loss: 0.2305 - accuracy: 0.9130 - val_loss: 0.1990 - val_accuracy: 0.9293\n",
            "Epoch 25/60\n",
            "58/58 [==============================] - 173s 3s/step - loss: 0.2140 - accuracy: 0.9290 - val_loss: 0.1959 - val_accuracy: 0.9306\n",
            "Epoch 26/60\n",
            "58/58 [==============================] - 174s 3s/step - loss: 0.2111 - accuracy: 0.9150 - val_loss: 0.1916 - val_accuracy: 0.9306\n",
            "Epoch 27/60\n",
            "58/58 [==============================] - 174s 3s/step - loss: 0.2096 - accuracy: 0.9248 - val_loss: 0.1891 - val_accuracy: 0.9343\n",
            "Epoch 28/60\n",
            "58/58 [==============================] - 175s 3s/step - loss: 0.2250 - accuracy: 0.9039 - val_loss: 0.1877 - val_accuracy: 0.9369\n",
            "Epoch 29/60\n",
            "58/58 [==============================] - 180s 3s/step - loss: 0.1998 - accuracy: 0.9185 - val_loss: 0.1835 - val_accuracy: 0.9369\n",
            "Epoch 30/60\n",
            "58/58 [==============================] - 179s 3s/step - loss: 0.1875 - accuracy: 0.9282 - val_loss: 0.1781 - val_accuracy: 0.9381\n",
            "Epoch 31/60\n",
            "58/58 [==============================] - 175s 3s/step - loss: 0.1885 - accuracy: 0.9365 - val_loss: 0.1759 - val_accuracy: 0.9394\n",
            "Epoch 32/60\n",
            "58/58 [==============================] - 173s 3s/step - loss: 0.1954 - accuracy: 0.9232 - val_loss: 0.1727 - val_accuracy: 0.9394\n",
            "Epoch 33/60\n",
            "58/58 [==============================] - 175s 3s/step - loss: 0.1888 - accuracy: 0.9315 - val_loss: 0.1696 - val_accuracy: 0.9407\n",
            "Epoch 34/60\n",
            "58/58 [==============================] - 174s 3s/step - loss: 0.1799 - accuracy: 0.9267 - val_loss: 0.1714 - val_accuracy: 0.9407\n",
            "Epoch 35/60\n",
            "58/58 [==============================] - 173s 3s/step - loss: 0.1776 - accuracy: 0.9296 - val_loss: 0.1642 - val_accuracy: 0.9432\n",
            "Epoch 36/60\n",
            "58/58 [==============================] - 174s 3s/step - loss: 0.1654 - accuracy: 0.9449 - val_loss: 0.1625 - val_accuracy: 0.9432\n",
            "Epoch 37/60\n",
            "58/58 [==============================] - 173s 3s/step - loss: 0.1727 - accuracy: 0.9389 - val_loss: 0.1602 - val_accuracy: 0.9444\n",
            "Epoch 38/60\n",
            "58/58 [==============================] - 173s 3s/step - loss: 0.1624 - accuracy: 0.9484 - val_loss: 0.1578 - val_accuracy: 0.9444\n",
            "Epoch 39/60\n",
            "58/58 [==============================] - 173s 3s/step - loss: 0.1743 - accuracy: 0.9306 - val_loss: 0.1547 - val_accuracy: 0.9444\n",
            "Epoch 40/60\n",
            "58/58 [==============================] - 173s 3s/step - loss: 0.1498 - accuracy: 0.9423 - val_loss: 0.1523 - val_accuracy: 0.9457\n",
            "Epoch 41/60\n",
            "58/58 [==============================] - 173s 3s/step - loss: 0.1450 - accuracy: 0.9518 - val_loss: 0.1508 - val_accuracy: 0.9470\n",
            "Epoch 42/60\n",
            "58/58 [==============================] - 172s 3s/step - loss: 0.1421 - accuracy: 0.9459 - val_loss: 0.1480 - val_accuracy: 0.9457\n",
            "Epoch 43/60\n",
            "58/58 [==============================] - 173s 3s/step - loss: 0.1550 - accuracy: 0.9398 - val_loss: 0.1482 - val_accuracy: 0.9457\n",
            "Epoch 44/60\n",
            "58/58 [==============================] - 173s 3s/step - loss: 0.1502 - accuracy: 0.9417 - val_loss: 0.1436 - val_accuracy: 0.9470\n",
            "Epoch 45/60\n",
            "58/58 [==============================] - 173s 3s/step - loss: 0.1460 - accuracy: 0.9554 - val_loss: 0.1420 - val_accuracy: 0.9470\n",
            "Epoch 46/60\n",
            "58/58 [==============================] - 173s 3s/step - loss: 0.1513 - accuracy: 0.9474 - val_loss: 0.1433 - val_accuracy: 0.9508\n",
            "Epoch 47/60\n",
            "58/58 [==============================] - 173s 3s/step - loss: 0.1313 - accuracy: 0.9512 - val_loss: 0.1376 - val_accuracy: 0.9482\n",
            "Epoch 48/60\n",
            "58/58 [==============================] - 172s 3s/step - loss: 0.1403 - accuracy: 0.9503 - val_loss: 0.1368 - val_accuracy: 0.9520\n",
            "Epoch 49/60\n",
            "58/58 [==============================] - 174s 3s/step - loss: 0.1385 - accuracy: 0.9481 - val_loss: 0.1339 - val_accuracy: 0.9508\n",
            "Epoch 50/60\n",
            "58/58 [==============================] - 176s 3s/step - loss: 0.1339 - accuracy: 0.9506 - val_loss: 0.1326 - val_accuracy: 0.9533\n",
            "Epoch 51/60\n",
            "58/58 [==============================] - 175s 3s/step - loss: 0.1144 - accuracy: 0.9514 - val_loss: 0.1302 - val_accuracy: 0.9533\n",
            "Epoch 52/60\n",
            "58/58 [==============================] - 173s 3s/step - loss: 0.1318 - accuracy: 0.9562 - val_loss: 0.1282 - val_accuracy: 0.9533\n",
            "Epoch 53/60\n",
            "58/58 [==============================] - 173s 3s/step - loss: 0.1219 - accuracy: 0.9538 - val_loss: 0.1266 - val_accuracy: 0.9545\n",
            "Epoch 54/60\n",
            "58/58 [==============================] - 173s 3s/step - loss: 0.1288 - accuracy: 0.9536 - val_loss: 0.1252 - val_accuracy: 0.9571\n",
            "Epoch 55/60\n",
            "58/58 [==============================] - 172s 3s/step - loss: 0.1093 - accuracy: 0.9722 - val_loss: 0.1252 - val_accuracy: 0.9558\n",
            "Epoch 56/60\n",
            "58/58 [==============================] - 172s 3s/step - loss: 0.1124 - accuracy: 0.9632 - val_loss: 0.1219 - val_accuracy: 0.9596\n",
            "Epoch 57/60\n",
            "58/58 [==============================] - 172s 3s/step - loss: 0.1158 - accuracy: 0.9639 - val_loss: 0.1249 - val_accuracy: 0.9621\n",
            "Epoch 58/60\n",
            "58/58 [==============================] - 172s 3s/step - loss: 0.1203 - accuracy: 0.9552 - val_loss: 0.1234 - val_accuracy: 0.9621\n",
            "Epoch 59/60\n",
            "58/58 [==============================] - 172s 3s/step - loss: 0.1094 - accuracy: 0.9690 - val_loss: 0.1210 - val_accuracy: 0.9634\n",
            "Epoch 60/60\n",
            "58/58 [==============================] - 172s 3s/step - loss: 0.1070 - accuracy: 0.9637 - val_loss: 0.1220 - val_accuracy: 0.9609\n",
            "[[375   8]\n",
            " [ 60 349]]\n",
            "TP,FP,FN,TN 349 60 8 375\n",
            "TNR: 86.21 %\n",
            "TPR: 97.76 %\n",
            "ACC: 91.41 %\n"
          ],
          "name": "stdout"
        },
        {
          "output_type": "display_data",
          "data": {
            "image/png": "[encoded data removed]",
            "text/plain": [
              "<Figure size 720x720 with 2 Axes>"
            ]
          },
          "metadata": {
            "tags": [],
            "needs_background": "light"
          }
        },
        {
          "output_type": "display_data",
          "data": {
            "image/png": "[encoded data removed]",
            "text/plain": [
              "<Figure size 432x288 with 1 Axes>"
            ]
          },
          "metadata": {
            "tags": [],
            "needs_background": "light"
          }
        },
        {
          "output_type": "display_data",
          "data": {
            "image/png": "[encoded data removed]",
            "text/plain": [
              "<Figure size 432x288 with 1 Axes>"
            ]
          },
          "metadata": {
            "tags": [],
            "needs_background": "light"
          }
        },
        {
          "output_type": "stream",
          "text": [
            "WARNING:absl:Found untraced functions such as lstm_cell_layer_call_fn, lstm_cell_layer_call_and_return_conditional_losses, lstm_cell_layer_call_fn, lstm_cell_layer_call_and_return_conditional_losses, lstm_cell_layer_call_and_return_conditional_losses while saving (showing 5 of 5). These functions will not be directly callable after loading.\n",
            "WARNING:absl:Found untraced functions such as lstm_cell_layer_call_fn, lstm_cell_layer_call_and_return_conditional_losses, lstm_cell_layer_call_fn, lstm_cell_layer_call_and_return_conditional_losses, lstm_cell_layer_call_and_return_conditional_losses while saving (showing 5 of 5). These functions will not be directly callable after loading.\n"
          ],
          "name": "stderr"
        },
        {
          "output_type": "stream",
          "text": [
            "INFO:tensorflow:Assets written to: /content/drive/My Drive/CSCE636/New_Code/folderResultModel/CSCE636-Model/assets\n"
          ],
          "name": "stdout"
        },
        {
          "output_type": "stream",
          "text": [
            "INFO:tensorflow:Assets written to: /content/drive/My Drive/CSCE636/New_Code/folderResultModel/CSCE636-Model/assets\n"
          ],
          "name": "stderr"
        }
      ]
    },
    {
      "cell_type": "code",
      "metadata": {
        "id": "stlAEqx_V8o7",
        "colab": {
          "base_uri": "https://localhost:8080/"
        },
        "outputId": "0975ea19-7974-4aee-aac9-89eac58a8c79"
      },
      "source": [
        "ResNet50_Model_base.summary()"
      ],
      "execution_count": null,
      "outputs": [
        {
          "output_type": "stream",
          "text": [
            "Model: \"model\"\n",
            "__________________________________________________________________________________________________\n",
            "Layer (type)                    Output Shape         Param #     Connected to                     \n",
            "==================================================================================================\n",
            "input_1 (InputLayer)            [(None, None, None,  0                                            \n",
            "__________________________________________________________________________________________________\n",
            "conv1_pad (ZeroPadding2D)       (None, None, None, 3 0           input_1[0][0]                    \n",
            "__________________________________________________________________________________________________\n",
            "conv1_conv (Conv2D)             (None, None, None, 6 9472        conv1_pad[0][0]                  \n",
            "__________________________________________________________________________________________________\n",
            "conv1_bn (BatchNormalization)   (None, None, None, 6 256         conv1_conv[0][0]                 \n",
            "__________________________________________________________________________________________________\n",
            "conv1_relu (Activation)         (None, None, None, 6 0           conv1_bn[0][0]                   \n",
            "__________________________________________________________________________________________________\n",
            "pool1_pad (ZeroPadding2D)       (None, None, None, 6 0           conv1_relu[0][0]                 \n",
            "__________________________________________________________________________________________________\n",
            "pool1_pool (MaxPooling2D)       (None, None, None, 6 0           pool1_pad[0][0]                  \n",
            "__________________________________________________________________________________________________\n",
            "conv2_block1_1_conv (Conv2D)    (None, None, None, 6 4160        pool1_pool[0][0]                 \n",
            "__________________________________________________________________________________________________\n",
            "conv2_block1_1_bn (BatchNormali (None, None, None, 6 256         conv2_block1_1_conv[0][0]        \n",
            "__________________________________________________________________________________________________\n",
            "conv2_block1_1_relu (Activation (None, None, None, 6 0           conv2_block1_1_bn[0][0]          \n",
            "__________________________________________________________________________________________________\n",
            "conv2_block1_2_conv (Conv2D)    (None, None, None, 6 36928       conv2_block1_1_relu[0][0]        \n",
            "__________________________________________________________________________________________________\n",
            "conv2_block1_2_bn (BatchNormali (None, None, None, 6 256         conv2_block1_2_conv[0][0]        \n",
            "__________________________________________________________________________________________________\n",
            "conv2_block1_2_relu (Activation (None, None, None, 6 0           conv2_block1_2_bn[0][0]          \n",
            "__________________________________________________________________________________________________\n",
            "conv2_block1_0_conv (Conv2D)    (None, None, None, 2 16640       pool1_pool[0][0]                 \n",
            "__________________________________________________________________________________________________\n",
            "conv2_block1_3_conv (Conv2D)    (None, None, None, 2 16640       conv2_block1_2_relu[0][0]        \n",
            "__________________________________________________________________________________________________\n",
            "conv2_block1_0_bn (BatchNormali (None, None, None, 2 1024        conv2_block1_0_conv[0][0]        \n",
            "__________________________________________________________________________________________________\n",
            "conv2_block1_3_bn (BatchNormali (None, None, None, 2 1024        conv2_block1_3_conv[0][0]        \n",
            "__________________________________________________________________________________________________\n",
            "conv2_block1_add (Add)          (None, None, None, 2 0           conv2_block1_0_bn[0][0]          \n",
            "                                                                 conv2_block1_3_bn[0][0]          \n",
            "__________________________________________________________________________________________________\n",
            "conv2_block1_out (Activation)   (None, None, None, 2 0           conv2_block1_add[0][0]           \n",
            "__________________________________________________________________________________________________\n",
            "conv2_block2_1_conv (Conv2D)    (None, None, None, 6 16448       conv2_block1_out[0][0]           \n",
            "__________________________________________________________________________________________________\n",
            "conv2_block2_1_bn (BatchNormali (None, None, None, 6 256         conv2_block2_1_conv[0][0]        \n",
            "__________________________________________________________________________________________________\n",
            "conv2_block2_1_relu (Activation (None, None, None, 6 0           conv2_block2_1_bn[0][0]          \n",
            "__________________________________________________________________________________________________\n",
            "conv2_block2_2_conv (Conv2D)    (None, None, None, 6 36928       conv2_block2_1_relu[0][0]        \n",
            "__________________________________________________________________________________________________\n",
            "conv2_block2_2_bn (BatchNormali (None, None, None, 6 256         conv2_block2_2_conv[0][0]        \n",
            "__________________________________________________________________________________________________\n",
            "conv2_block2_2_relu (Activation (None, None, None, 6 0           conv2_block2_2_bn[0][0]          \n",
            "__________________________________________________________________________________________________\n",
            "conv2_block2_3_conv (Conv2D)    (None, None, None, 2 16640       conv2_block2_2_relu[0][0]        \n",
            "__________________________________________________________________________________________________\n",
            "conv2_block2_3_bn (BatchNormali (None, None, None, 2 1024        conv2_block2_3_conv[0][0]        \n",
            "__________________________________________________________________________________________________\n",
            "conv2_block2_add (Add)          (None, None, None, 2 0           conv2_block1_out[0][0]           \n",
            "                                                                 conv2_block2_3_bn[0][0]          \n",
            "__________________________________________________________________________________________________\n",
            "conv2_block2_out (Activation)   (None, None, None, 2 0           conv2_block2_add[0][0]           \n",
            "__________________________________________________________________________________________________\n",
            "conv2_block3_1_conv (Conv2D)    (None, None, None, 6 16448       conv2_block2_out[0][0]           \n",
            "__________________________________________________________________________________________________\n",
            "conv2_block3_1_bn (BatchNormali (None, None, None, 6 256         conv2_block3_1_conv[0][0]        \n",
            "__________________________________________________________________________________________________\n",
            "conv2_block3_1_relu (Activation (None, None, None, 6 0           conv2_block3_1_bn[0][0]          \n",
            "__________________________________________________________________________________________________\n",
            "conv2_block3_2_conv (Conv2D)    (None, None, None, 6 36928       conv2_block3_1_relu[0][0]        \n",
            "__________________________________________________________________________________________________\n",
            "conv2_block3_2_bn (BatchNormali (None, None, None, 6 256         conv2_block3_2_conv[0][0]        \n",
            "__________________________________________________________________________________________________\n",
            "conv2_block3_2_relu (Activation (None, None, None, 6 0           conv2_block3_2_bn[0][0]          \n",
            "__________________________________________________________________________________________________\n",
            "conv2_block3_3_conv (Conv2D)    (None, None, None, 2 16640       conv2_block3_2_relu[0][0]        \n",
            "__________________________________________________________________________________________________\n",
            "conv2_block3_3_bn (BatchNormali (None, None, None, 2 1024        conv2_block3_3_conv[0][0]        \n",
            "__________________________________________________________________________________________________\n",
            "conv2_block3_add (Add)          (None, None, None, 2 0           conv2_block2_out[0][0]           \n",
            "                                                                 conv2_block3_3_bn[0][0]          \n",
            "__________________________________________________________________________________________________\n",
            "conv2_block3_out (Activation)   (None, None, None, 2 0           conv2_block3_add[0][0]           \n",
            "__________________________________________________________________________________________________\n",
            "conv3_block1_1_conv (Conv2D)    (None, None, None, 1 32896       conv2_block3_out[0][0]           \n",
            "__________________________________________________________________________________________________\n",
            "conv3_block1_1_bn (BatchNormali (None, None, None, 1 512         conv3_block1_1_conv[0][0]        \n",
            "__________________________________________________________________________________________________\n",
            "conv3_block1_1_relu (Activation (None, None, None, 1 0           conv3_block1_1_bn[0][0]          \n",
            "__________________________________________________________________________________________________\n",
            "conv3_block1_2_conv (Conv2D)    (None, None, None, 1 147584      conv3_block1_1_relu[0][0]        \n",
            "__________________________________________________________________________________________________\n",
            "conv3_block1_2_bn (BatchNormali (None, None, None, 1 512         conv3_block1_2_conv[0][0]        \n",
            "__________________________________________________________________________________________________\n",
            "conv3_block1_2_relu (Activation (None, None, None, 1 0           conv3_block1_2_bn[0][0]          \n",
            "__________________________________________________________________________________________________\n",
            "conv3_block1_0_conv (Conv2D)    (None, None, None, 5 131584      conv2_block3_out[0][0]           \n",
            "__________________________________________________________________________________________________\n",
            "conv3_block1_3_conv (Conv2D)    (None, None, None, 5 66048       conv3_block1_2_relu[0][0]        \n",
            "__________________________________________________________________________________________________\n",
            "conv3_block1_0_bn (BatchNormali (None, None, None, 5 2048        conv3_block1_0_conv[0][0]        \n",
            "__________________________________________________________________________________________________\n",
            "conv3_block1_3_bn (BatchNormali (None, None, None, 5 2048        conv3_block1_3_conv[0][0]        \n",
            "__________________________________________________________________________________________________\n",
            "conv3_block1_add (Add)          (None, None, None, 5 0           conv3_block1_0_bn[0][0]          \n",
            "                                                                 conv3_block1_3_bn[0][0]          \n",
            "__________________________________________________________________________________________________\n",
            "conv3_block1_out (Activation)   (None, None, None, 5 0           conv3_block1_add[0][0]           \n",
            "__________________________________________________________________________________________________\n",
            "conv3_block2_1_conv (Conv2D)    (None, None, None, 1 65664       conv3_block1_out[0][0]           \n",
            "__________________________________________________________________________________________________\n",
            "conv3_block2_1_bn (BatchNormali (None, None, None, 1 512         conv3_block2_1_conv[0][0]        \n",
            "__________________________________________________________________________________________________\n",
            "conv3_block2_1_relu (Activation (None, None, None, 1 0           conv3_block2_1_bn[0][0]          \n",
            "__________________________________________________________________________________________________\n",
            "conv3_block2_2_conv (Conv2D)    (None, None, None, 1 147584      conv3_block2_1_relu[0][0]        \n",
            "__________________________________________________________________________________________________\n",
            "conv3_block2_2_bn (BatchNormali (None, None, None, 1 512         conv3_block2_2_conv[0][0]        \n",
            "__________________________________________________________________________________________________\n",
            "conv3_block2_2_relu (Activation (None, None, None, 1 0           conv3_block2_2_bn[0][0]          \n",
            "__________________________________________________________________________________________________\n",
            "conv3_block2_3_conv (Conv2D)    (None, None, None, 5 66048       conv3_block2_2_relu[0][0]        \n",
            "__________________________________________________________________________________________________\n",
            "conv3_block2_3_bn (BatchNormali (None, None, None, 5 2048        conv3_block2_3_conv[0][0]        \n",
            "__________________________________________________________________________________________________\n",
            "conv3_block2_add (Add)          (None, None, None, 5 0           conv3_block1_out[0][0]           \n",
            "                                                                 conv3_block2_3_bn[0][0]          \n",
            "__________________________________________________________________________________________________\n",
            "conv3_block2_out (Activation)   (None, None, None, 5 0           conv3_block2_add[0][0]           \n",
            "__________________________________________________________________________________________________\n",
            "conv3_block3_1_conv (Conv2D)    (None, None, None, 1 65664       conv3_block2_out[0][0]           \n",
            "__________________________________________________________________________________________________\n",
            "conv3_block3_1_bn (BatchNormali (None, None, None, 1 512         conv3_block3_1_conv[0][0]        \n",
            "__________________________________________________________________________________________________\n",
            "conv3_block3_1_relu (Activation (None, None, None, 1 0           conv3_block3_1_bn[0][0]          \n",
            "__________________________________________________________________________________________________\n",
            "conv3_block3_2_conv (Conv2D)    (None, None, None, 1 147584      conv3_block3_1_relu[0][0]        \n",
            "__________________________________________________________________________________________________\n",
            "conv3_block3_2_bn (BatchNormali (None, None, None, 1 512         conv3_block3_2_conv[0][0]        \n",
            "__________________________________________________________________________________________________\n",
            "conv3_block3_2_relu (Activation (None, None, None, 1 0           conv3_block3_2_bn[0][0]          \n",
            "__________________________________________________________________________________________________\n",
            "conv3_block3_3_conv (Conv2D)    (None, None, None, 5 66048       conv3_block3_2_relu[0][0]        \n",
            "__________________________________________________________________________________________________\n",
            "conv3_block3_3_bn (BatchNormali (None, None, None, 5 2048        conv3_block3_3_conv[0][0]        \n",
            "__________________________________________________________________________________________________\n",
            "conv3_block3_add (Add)          (None, None, None, 5 0           conv3_block2_out[0][0]           \n",
            "                                                                 conv3_block3_3_bn[0][0]          \n",
            "__________________________________________________________________________________________________\n",
            "conv3_block3_out (Activation)   (None, None, None, 5 0           conv3_block3_add[0][0]           \n",
            "__________________________________________________________________________________________________\n",
            "conv3_block4_1_conv (Conv2D)    (None, None, None, 1 65664       conv3_block3_out[0][0]           \n",
            "__________________________________________________________________________________________________\n",
            "conv3_block4_1_bn (BatchNormali (None, None, None, 1 512         conv3_block4_1_conv[0][0]        \n",
            "__________________________________________________________________________________________________\n",
            "conv3_block4_1_relu (Activation (None, None, None, 1 0           conv3_block4_1_bn[0][0]          \n",
            "__________________________________________________________________________________________________\n",
            "conv3_block4_2_conv (Conv2D)    (None, None, None, 1 147584      conv3_block4_1_relu[0][0]        \n",
            "__________________________________________________________________________________________________\n",
            "conv3_block4_2_bn (BatchNormali (None, None, None, 1 512         conv3_block4_2_conv[0][0]        \n",
            "__________________________________________________________________________________________________\n",
            "conv3_block4_2_relu (Activation (None, None, None, 1 0           conv3_block4_2_bn[0][0]          \n",
            "__________________________________________________________________________________________________\n",
            "conv3_block4_3_conv (Conv2D)    (None, None, None, 5 66048       conv3_block4_2_relu[0][0]        \n",
            "__________________________________________________________________________________________________\n",
            "conv3_block4_3_bn (BatchNormali (None, None, None, 5 2048        conv3_block4_3_conv[0][0]        \n",
            "__________________________________________________________________________________________________\n",
            "conv3_block4_add (Add)          (None, None, None, 5 0           conv3_block3_out[0][0]           \n",
            "                                                                 conv3_block4_3_bn[0][0]          \n",
            "__________________________________________________________________________________________________\n",
            "conv3_block4_out (Activation)   (None, None, None, 5 0           conv3_block4_add[0][0]           \n",
            "__________________________________________________________________________________________________\n",
            "conv4_block1_1_conv (Conv2D)    (None, None, None, 2 131328      conv3_block4_out[0][0]           \n",
            "__________________________________________________________________________________________________\n",
            "conv4_block1_1_bn (BatchNormali (None, None, None, 2 1024        conv4_block1_1_conv[0][0]        \n",
            "__________________________________________________________________________________________________\n",
            "conv4_block1_1_relu (Activation (None, None, None, 2 0           conv4_block1_1_bn[0][0]          \n",
            "__________________________________________________________________________________________________\n",
            "conv4_block1_2_conv (Conv2D)    (None, None, None, 2 590080      conv4_block1_1_relu[0][0]        \n",
            "__________________________________________________________________________________________________\n",
            "conv4_block1_2_bn (BatchNormali (None, None, None, 2 1024        conv4_block1_2_conv[0][0]        \n",
            "__________________________________________________________________________________________________\n",
            "conv4_block1_2_relu (Activation (None, None, None, 2 0           conv4_block1_2_bn[0][0]          \n",
            "__________________________________________________________________________________________________\n",
            "conv4_block1_0_conv (Conv2D)    (None, None, None, 1 525312      conv3_block4_out[0][0]           \n",
            "__________________________________________________________________________________________________\n",
            "conv4_block1_3_conv (Conv2D)    (None, None, None, 1 263168      conv4_block1_2_relu[0][0]        \n",
            "__________________________________________________________________________________________________\n",
            "conv4_block1_0_bn (BatchNormali (None, None, None, 1 4096        conv4_block1_0_conv[0][0]        \n",
            "__________________________________________________________________________________________________\n",
            "conv4_block1_3_bn (BatchNormali (None, None, None, 1 4096        conv4_block1_3_conv[0][0]        \n",
            "__________________________________________________________________________________________________\n",
            "conv4_block1_add (Add)          (None, None, None, 1 0           conv4_block1_0_bn[0][0]          \n",
            "                                                                 conv4_block1_3_bn[0][0]          \n",
            "__________________________________________________________________________________________________\n",
            "conv4_block1_out (Activation)   (None, None, None, 1 0           conv4_block1_add[0][0]           \n",
            "__________________________________________________________________________________________________\n",
            "conv4_block2_1_conv (Conv2D)    (None, None, None, 2 262400      conv4_block1_out[0][0]           \n",
            "__________________________________________________________________________________________________\n",
            "conv4_block2_1_bn (BatchNormali (None, None, None, 2 1024        conv4_block2_1_conv[0][0]        \n",
            "__________________________________________________________________________________________________\n",
            "conv4_block2_1_relu (Activation (None, None, None, 2 0           conv4_block2_1_bn[0][0]          \n",
            "__________________________________________________________________________________________________\n",
            "conv4_block2_2_conv (Conv2D)    (None, None, None, 2 590080      conv4_block2_1_relu[0][0]        \n",
            "__________________________________________________________________________________________________\n",
            "conv4_block2_2_bn (BatchNormali (None, None, None, 2 1024        conv4_block2_2_conv[0][0]        \n",
            "__________________________________________________________________________________________________\n",
            "conv4_block2_2_relu (Activation (None, None, None, 2 0           conv4_block2_2_bn[0][0]          \n",
            "__________________________________________________________________________________________________\n",
            "conv4_block2_3_conv (Conv2D)    (None, None, None, 1 263168      conv4_block2_2_relu[0][0]        \n",
            "__________________________________________________________________________________________________\n",
            "conv4_block2_3_bn (BatchNormali (None, None, None, 1 4096        conv4_block2_3_conv[0][0]        \n",
            "__________________________________________________________________________________________________\n",
            "conv4_block2_add (Add)          (None, None, None, 1 0           conv4_block1_out[0][0]           \n",
            "                                                                 conv4_block2_3_bn[0][0]          \n",
            "__________________________________________________________________________________________________\n",
            "conv4_block2_out (Activation)   (None, None, None, 1 0           conv4_block2_add[0][0]           \n",
            "__________________________________________________________________________________________________\n",
            "conv4_block3_1_conv (Conv2D)    (None, None, None, 2 262400      conv4_block2_out[0][0]           \n",
            "__________________________________________________________________________________________________\n",
            "conv4_block3_1_bn (BatchNormali (None, None, None, 2 1024        conv4_block3_1_conv[0][0]        \n",
            "__________________________________________________________________________________________________\n",
            "conv4_block3_1_relu (Activation (None, None, None, 2 0           conv4_block3_1_bn[0][0]          \n",
            "__________________________________________________________________________________________________\n",
            "conv4_block3_2_conv (Conv2D)    (None, None, None, 2 590080      conv4_block3_1_relu[0][0]        \n",
            "__________________________________________________________________________________________________\n",
            "conv4_block3_2_bn (BatchNormali (None, None, None, 2 1024        conv4_block3_2_conv[0][0]        \n",
            "__________________________________________________________________________________________________\n",
            "conv4_block3_2_relu (Activation (None, None, None, 2 0           conv4_block3_2_bn[0][0]          \n",
            "__________________________________________________________________________________________________\n",
            "conv4_block3_3_conv (Conv2D)    (None, None, None, 1 263168      conv4_block3_2_relu[0][0]        \n",
            "__________________________________________________________________________________________________\n",
            "conv4_block3_3_bn (BatchNormali (None, None, None, 1 4096        conv4_block3_3_conv[0][0]        \n",
            "__________________________________________________________________________________________________\n",
            "conv4_block3_add (Add)          (None, None, None, 1 0           conv4_block2_out[0][0]           \n",
            "                                                                 conv4_block3_3_bn[0][0]          \n",
            "__________________________________________________________________________________________________\n",
            "conv4_block3_out (Activation)   (None, None, None, 1 0           conv4_block3_add[0][0]           \n",
            "__________________________________________________________________________________________________\n",
            "conv4_block4_1_conv (Conv2D)    (None, None, None, 2 262400      conv4_block3_out[0][0]           \n",
            "__________________________________________________________________________________________________\n",
            "conv4_block4_1_bn (BatchNormali (None, None, None, 2 1024        conv4_block4_1_conv[0][0]        \n",
            "__________________________________________________________________________________________________\n",
            "conv4_block4_1_relu (Activation (None, None, None, 2 0           conv4_block4_1_bn[0][0]          \n",
            "__________________________________________________________________________________________________\n",
            "conv4_block4_2_conv (Conv2D)    (None, None, None, 2 590080      conv4_block4_1_relu[0][0]        \n",
            "__________________________________________________________________________________________________\n",
            "conv4_block4_2_bn (BatchNormali (None, None, None, 2 1024        conv4_block4_2_conv[0][0]        \n",
            "__________________________________________________________________________________________________\n",
            "conv4_block4_2_relu (Activation (None, None, None, 2 0           conv4_block4_2_bn[0][0]          \n",
            "__________________________________________________________________________________________________\n",
            "conv4_block4_3_conv (Conv2D)    (None, None, None, 1 263168      conv4_block4_2_relu[0][0]        \n",
            "__________________________________________________________________________________________________\n",
            "conv4_block4_3_bn (BatchNormali (None, None, None, 1 4096        conv4_block4_3_conv[0][0]        \n",
            "__________________________________________________________________________________________________\n",
            "conv4_block4_add (Add)          (None, None, None, 1 0           conv4_block3_out[0][0]           \n",
            "                                                                 conv4_block4_3_bn[0][0]          \n",
            "__________________________________________________________________________________________________\n",
            "conv4_block4_out (Activation)   (None, None, None, 1 0           conv4_block4_add[0][0]           \n",
            "__________________________________________________________________________________________________\n",
            "conv4_block5_1_conv (Conv2D)    (None, None, None, 2 262400      conv4_block4_out[0][0]           \n",
            "__________________________________________________________________________________________________\n",
            "conv4_block5_1_bn (BatchNormali (None, None, None, 2 1024        conv4_block5_1_conv[0][0]        \n",
            "__________________________________________________________________________________________________\n",
            "conv4_block5_1_relu (Activation (None, None, None, 2 0           conv4_block5_1_bn[0][0]          \n",
            "__________________________________________________________________________________________________\n",
            "conv4_block5_2_conv (Conv2D)    (None, None, None, 2 590080      conv4_block5_1_relu[0][0]        \n",
            "__________________________________________________________________________________________________\n",
            "conv4_block5_2_bn (BatchNormali (None, None, None, 2 1024        conv4_block5_2_conv[0][0]        \n",
            "__________________________________________________________________________________________________\n",
            "conv4_block5_2_relu (Activation (None, None, None, 2 0           conv4_block5_2_bn[0][0]          \n",
            "__________________________________________________________________________________________________\n",
            "conv4_block5_3_conv (Conv2D)    (None, None, None, 1 263168      conv4_block5_2_relu[0][0]        \n",
            "__________________________________________________________________________________________________\n",
            "conv4_block5_3_bn (BatchNormali (None, None, None, 1 4096        conv4_block5_3_conv[0][0]        \n",
            "__________________________________________________________________________________________________\n",
            "conv4_block5_add (Add)          (None, None, None, 1 0           conv4_block4_out[0][0]           \n",
            "                                                                 conv4_block5_3_bn[0][0]          \n",
            "__________________________________________________________________________________________________\n",
            "conv4_block5_out (Activation)   (None, None, None, 1 0           conv4_block5_add[0][0]           \n",
            "__________________________________________________________________________________________________\n",
            "conv4_block6_1_conv (Conv2D)    (None, None, None, 2 262400      conv4_block5_out[0][0]           \n",
            "__________________________________________________________________________________________________\n",
            "conv4_block6_1_bn (BatchNormali (None, None, None, 2 1024        conv4_block6_1_conv[0][0]        \n",
            "__________________________________________________________________________________________________\n",
            "conv4_block6_1_relu (Activation (None, None, None, 2 0           conv4_block6_1_bn[0][0]          \n",
            "__________________________________________________________________________________________________\n",
            "conv4_block6_2_conv (Conv2D)    (None, None, None, 2 590080      conv4_block6_1_relu[0][0]        \n",
            "__________________________________________________________________________________________________\n",
            "conv4_block6_2_bn (BatchNormali (None, None, None, 2 1024        conv4_block6_2_conv[0][0]        \n",
            "__________________________________________________________________________________________________\n",
            "conv4_block6_2_relu (Activation (None, None, None, 2 0           conv4_block6_2_bn[0][0]          \n",
            "__________________________________________________________________________________________________\n",
            "conv4_block6_3_conv (Conv2D)    (None, None, None, 1 263168      conv4_block6_2_relu[0][0]        \n",
            "__________________________________________________________________________________________________\n",
            "conv4_block6_3_bn (BatchNormali (None, None, None, 1 4096        conv4_block6_3_conv[0][0]        \n",
            "__________________________________________________________________________________________________\n",
            "conv4_block6_add (Add)          (None, None, None, 1 0           conv4_block5_out[0][0]           \n",
            "                                                                 conv4_block6_3_bn[0][0]          \n",
            "__________________________________________________________________________________________________\n",
            "conv4_block6_out (Activation)   (None, None, None, 1 0           conv4_block6_add[0][0]           \n",
            "__________________________________________________________________________________________________\n",
            "conv5_block1_1_conv (Conv2D)    (None, None, None, 5 524800      conv4_block6_out[0][0]           \n",
            "__________________________________________________________________________________________________\n",
            "conv5_block1_1_bn (BatchNormali (None, None, None, 5 2048        conv5_block1_1_conv[0][0]        \n",
            "__________________________________________________________________________________________________\n",
            "conv5_block1_1_relu (Activation (None, None, None, 5 0           conv5_block1_1_bn[0][0]          \n",
            "__________________________________________________________________________________________________\n",
            "conv5_block1_2_conv (Conv2D)    (None, None, None, 5 2359808     conv5_block1_1_relu[0][0]        \n",
            "__________________________________________________________________________________________________\n",
            "conv5_block1_2_bn (BatchNormali (None, None, None, 5 2048        conv5_block1_2_conv[0][0]        \n",
            "__________________________________________________________________________________________________\n",
            "conv5_block1_2_relu (Activation (None, None, None, 5 0           conv5_block1_2_bn[0][0]          \n",
            "__________________________________________________________________________________________________\n",
            "conv5_block1_0_conv (Conv2D)    (None, None, None, 2 2099200     conv4_block6_out[0][0]           \n",
            "__________________________________________________________________________________________________\n",
            "conv5_block1_3_conv (Conv2D)    (None, None, None, 2 1050624     conv5_block1_2_relu[0][0]        \n",
            "__________________________________________________________________________________________________\n",
            "conv5_block1_0_bn (BatchNormali (None, None, None, 2 8192        conv5_block1_0_conv[0][0]        \n",
            "__________________________________________________________________________________________________\n",
            "conv5_block1_3_bn (BatchNormali (None, None, None, 2 8192        conv5_block1_3_conv[0][0]        \n",
            "__________________________________________________________________________________________________\n",
            "conv5_block1_add (Add)          (None, None, None, 2 0           conv5_block1_0_bn[0][0]          \n",
            "                                                                 conv5_block1_3_bn[0][0]          \n",
            "__________________________________________________________________________________________________\n",
            "conv5_block1_out (Activation)   (None, None, None, 2 0           conv5_block1_add[0][0]           \n",
            "__________________________________________________________________________________________________\n",
            "conv5_block2_1_conv (Conv2D)    (None, None, None, 5 1049088     conv5_block1_out[0][0]           \n",
            "__________________________________________________________________________________________________\n",
            "conv5_block2_1_bn (BatchNormali (None, None, None, 5 2048        conv5_block2_1_conv[0][0]        \n",
            "__________________________________________________________________________________________________\n",
            "conv5_block2_1_relu (Activation (None, None, None, 5 0           conv5_block2_1_bn[0][0]          \n",
            "__________________________________________________________________________________________________\n",
            "conv5_block2_2_conv (Conv2D)    (None, None, None, 5 2359808     conv5_block2_1_relu[0][0]        \n",
            "__________________________________________________________________________________________________\n",
            "conv5_block2_2_bn (BatchNormali (None, None, None, 5 2048        conv5_block2_2_conv[0][0]        \n",
            "__________________________________________________________________________________________________\n",
            "conv5_block2_2_relu (Activation (None, None, None, 5 0           conv5_block2_2_bn[0][0]          \n",
            "__________________________________________________________________________________________________\n",
            "conv5_block2_3_conv (Conv2D)    (None, None, None, 2 1050624     conv5_block2_2_relu[0][0]        \n",
            "__________________________________________________________________________________________________\n",
            "conv5_block2_3_bn (BatchNormali (None, None, None, 2 8192        conv5_block2_3_conv[0][0]        \n",
            "__________________________________________________________________________________________________\n",
            "conv5_block2_add (Add)          (None, None, None, 2 0           conv5_block1_out[0][0]           \n",
            "                                                                 conv5_block2_3_bn[0][0]          \n",
            "__________________________________________________________________________________________________\n",
            "conv5_block2_out (Activation)   (None, None, None, 2 0           conv5_block2_add[0][0]           \n",
            "__________________________________________________________________________________________________\n",
            "conv5_block3_1_conv (Conv2D)    (None, None, None, 5 1049088     conv5_block2_out[0][0]           \n",
            "__________________________________________________________________________________________________\n",
            "conv5_block3_1_bn (BatchNormali (None, None, None, 5 2048        conv5_block3_1_conv[0][0]        \n",
            "__________________________________________________________________________________________________\n",
            "conv5_block3_1_relu (Activation (None, None, None, 5 0           conv5_block3_1_bn[0][0]          \n",
            "__________________________________________________________________________________________________\n",
            "conv5_block3_2_conv (Conv2D)    (None, None, None, 5 2359808     conv5_block3_1_relu[0][0]        \n",
            "__________________________________________________________________________________________________\n",
            "conv5_block3_2_bn (BatchNormali (None, None, None, 5 2048        conv5_block3_2_conv[0][0]        \n",
            "__________________________________________________________________________________________________\n",
            "conv5_block3_2_relu (Activation (None, None, None, 5 0           conv5_block3_2_bn[0][0]          \n",
            "__________________________________________________________________________________________________\n",
            "conv5_block3_3_conv (Conv2D)    (None, None, None, 2 1050624     conv5_block3_2_relu[0][0]        \n",
            "__________________________________________________________________________________________________\n",
            "conv5_block3_3_bn (BatchNormali (None, None, None, 2 8192        conv5_block3_3_conv[0][0]        \n",
            "__________________________________________________________________________________________________\n",
            "conv5_block3_add (Add)          (None, None, None, 2 0           conv5_block2_out[0][0]           \n",
            "                                                                 conv5_block3_3_bn[0][0]          \n",
            "==================================================================================================\n",
            "Total params: 23,587,712\n",
            "Trainable params: 0\n",
            "Non-trainable params: 23,587,712\n",
            "__________________________________________________________________________________________________\n"
          ],
          "name": "stdout"
        }
      ]
    },
    {
      "cell_type": "code",
      "metadata": {
        "id": "_jIEkJRdv9Ue"
      },
      "source": [
        "plot_model(ResNet50_Model_base)"
      ],
      "execution_count": null,
      "outputs": []
    },
    {
      "cell_type": "code",
      "metadata": {
        "id": "bqKcP5t4wC69",
        "colab": {
          "base_uri": "https://localhost:8080/"
        },
        "outputId": "3e81615a-96e1-439f-fcef-6c54e84fd1bd"
      },
      "source": [
        "ResNet.output_names"
      ],
      "execution_count": null,
      "outputs": [
        {
          "output_type": "execute_result",
          "data": {
            "text/plain": [
              "['conv5_block3_out']"
            ]
          },
          "metadata": {
            "tags": []
          },
          "execution_count": 13
        }
      ]
    },
    {
      "cell_type": "code",
      "metadata": {
        "id": "UuBPbz7AHo8J",
        "colab": {
          "base_uri": "https://localhost:8080/"
        },
        "outputId": "dd851b4e-f509-40b4-eda5-6f11123fea62"
      },
      "source": [
        "# serialize model to JSON\n",
        "ResNet50_json = ResNet_for_TL.to_json()\n",
        "with open(\"/content/drive/My Drive/CSCE636/10_Saved_Model/ResNet50.json\", \"w\") as json_file:\n",
        "    json_file.write(ResNet50_json)\n",
        "# serialize weights to HDF5\n",
        "ResNet_for_TL.save_weights(\"/content/drive/My Drive/CSCE636/10_Saved_Model/ResNet50.h5\")\n",
        "print(\"Saved model to disk\")"
      ],
      "execution_count": null,
      "outputs": [
        {
          "output_type": "stream",
          "text": [
            "Saved model to disk\n"
          ],
          "name": "stdout"
        }
      ]
    },
    {
      "cell_type": "code",
      "metadata": {
        "id": "cW5leGqBIgYA",
        "colab": {
          "base_uri": "https://localhost:8080/"
        },
        "outputId": "6a6ab46c-4788-4bb0-c13b-02c5c37ce766"
      },
      "source": [
        "\n",
        "# load json and create model\n",
        "ResNet50_json_file = open('/content/drive/My Drive/CSCE636/10_Saved_Model/ResNet50.json', 'r')\n",
        "loaded_model_json = ResNet50_json_file.read()\n",
        "ResNet50_json_file.close()\n",
        "ResNet50_loaded = model_from_json(loaded_model_json)\n",
        "# load weights into new model\n",
        "ResNet50_loaded.load_weights(\"/content/drive/My Drive/CSCE636/10_Saved_Model/ResNet50.h5\")\n",
        "print(\"Loaded model from disk\")"
      ],
      "execution_count": null,
      "outputs": [
        {
          "output_type": "stream",
          "text": [
            "Loaded model from disk\n"
          ],
          "name": "stdout"
        }
      ]
    },
    {
      "cell_type": "code",
      "metadata": {
        "id": "7UhqNNhZg_1i"
      },
      "source": [
        "u_test = ResNet50_loaded.predict((X_test))"
      ],
      "execution_count": null,
      "outputs": []
    },
    {
      "cell_type": "code",
      "metadata": {
        "id": "NV9YE_jwGmxh",
        "colab": {
          "base_uri": "https://localhost:8080/"
        },
        "outputId": "3f84c8b0-f15a-4274-da3b-f89c4452f308"
      },
      "source": [
        "y_test[80:160]"
      ],
      "execution_count": null,
      "outputs": [
        {
          "output_type": "execute_result",
          "data": {
            "text/plain": [
              "array([0., 0., 0., 0., 0., 0., 0., 0., 0., 0., 0., 0., 0., 0., 0., 0., 0.,\n",
              "       0., 0., 0., 1., 1., 1., 1., 1., 1., 1., 1., 1., 1., 1., 1., 1., 1.,\n",
              "       1., 1., 1., 1., 1., 1., 0., 0., 0., 0., 0., 0., 0., 0., 0., 0., 0.,\n",
              "       0., 0., 0., 0., 0., 0., 0., 0., 0., 0., 0., 0., 0., 0., 0., 0., 0.,\n",
              "       0., 0., 0., 0., 0., 0., 0., 0., 0., 0., 0., 0.])"
            ]
          },
          "metadata": {
            "tags": []
          },
          "execution_count": 17
        }
      ]
    },
    {
      "cell_type": "code",
      "metadata": {
        "id": "qVknn0lyNiMw",
        "colab": {
          "base_uri": "https://localhost:8080/"
        },
        "outputId": "a955f045-0bd4-4070-ed28-b5d30136fb48"
      },
      "source": [
        "ResNet50_loaded.predict(X_test[90].reshape(1,224,224,3))"
      ],
      "execution_count": null,
      "outputs": [
        {
          "output_type": "execute_result",
          "data": {
            "text/plain": [
              "array([[0.05646913]], dtype=float32)"
            ]
          },
          "metadata": {
            "tags": []
          },
          "execution_count": 18
        }
      ]
    },
    {
      "cell_type": "code",
      "metadata": {
        "id": "xg_LO-IQQuM_"
      },
      "source": [
        "json_array = np.stack((times_test, np.reshape(u_test, (-1,))), axis = 1)\n",
        "json_list = np.ndarray.tolist(json_array)\n",
        "json_dict = {\"clap\": json_list}\n",
        "with open('/content/drive/My Drive/CSCE636/10_JSON/timeLabel.json', 'w') as outfile:\n",
        "    json.dump(json_dict, outfile)"
      ],
      "execution_count": null,
      "outputs": []
    },
    {
      "cell_type": "code",
      "metadata": {
        "id": "Wb-mfEwWGWT-",
        "colab": {
          "base_uri": "https://localhost:8080/"
        },
        "outputId": "a064b325-1519-4ada-c3b7-f62016f361b3"
      },
      "source": [
        "u_test"
      ],
      "execution_count": null,
      "outputs": [
        {
          "output_type": "execute_result",
          "data": {
            "text/plain": [
              "array([[2.0864990e-14],\n",
              "       [7.3458430e-08],\n",
              "       [1.7466903e-10],\n",
              "       ...,\n",
              "       [1.0000000e+00],\n",
              "       [1.0000000e+00],\n",
              "       [1.0000000e+00]], dtype=float32)"
            ]
          },
          "metadata": {
            "tags": []
          },
          "execution_count": 20
        }
      ]
    },
    {
      "cell_type": "code",
      "metadata": {
        "id": "mcf2LfLEGXzS"
      },
      "source": [
        "path_test = \"/content/drive/My Drive/CSCE636/10_test/pick up things from floor.mp4\""
      ],
      "execution_count": null,
      "outputs": []
    },
    {
      "cell_type": "code",
      "metadata": {
        "id": "4poQj25dQW5E",
        "colab": {
          "base_uri": "https://localhost:8080/"
        },
        "outputId": "94937e39-9578-42de-da0c-ff40a19742e0"
      },
      "source": [
        "import pytictoc\n",
        "\n",
        "time_print = pytictoc.TicToc()\n",
        "time_print.tic()\n",
        "print(time_print)\n",
        "videos = []\n",
        "labels_2d = []\n",
        "num_frames = 100\n",
        "frame_rate = 5\n",
        "time_3d = []\n",
        "time_2d = []\n",
        "i=0\n",
        "for path in range(2):\n",
        "  \n",
        "  vidcap = cv2.VideoCapture(path_test)\n",
        "  fps = vidcap.get(cv2.CAP_PROP_FPS)\n",
        "  success, image = vidcap.read()\n",
        "  frames = []\n",
        "  \n",
        "\n",
        "  time = []\n",
        "  count = 0  # control to have the same number of frames\n",
        "  count_fps = 0\n",
        "  while success:\n",
        "    \n",
        "    \n",
        "    success, image = vidcap.read()\n",
        "    count += 1\n",
        "    if(type(image).__module__ == np.__name__):\n",
        "      new_image = cv2.resize(image, (224,224), interpolation = cv2.INTER_AREA)\n",
        "      \n",
        "      frames.append(new_image)\n",
        "      time.append(count_fps*(1/fps))\n",
        "      count_fps += 1\n",
        "      if count==num_frames:\n",
        "        count_fps = 0\n",
        "        print(\"Frames_\", str(count),\", video_\", str(i), \"Done, Time_Elapsed: \", str(round(time_print.tocvalue(),3)), \" Seconds\")\n",
        "        videos.append(frames)\n",
        "        time_3d.append(time)\n",
        "        count = 0\n",
        "        frames = []\n",
        "        time = []\n",
        "\n",
        "  if (count < num_frames):\n",
        "    while (count > 0 and count <= num_frames):\n",
        "      frames.append(new_image)    # if the number of frames is lower than the num_frames, repeat the last image to reach num_frames\n",
        "      count +=1\n",
        "      time.append(count_fps*(1/fps))\n",
        "      count_fps += 1\n",
        "      \n",
        "    videos.append(frames)\n",
        "    time_3d.append(time)\n",
        "  \n",
        "  i+=1\n",
        "  print(\"Video_\", str(i),\"Done, Time_Elapsed: \", str(round(time_print.tocvalue(),3)), \" Seconds\")\n",
        "\n",
        "\n",
        "videos_2d_len = len(videos)\n",
        "videos_3d = np.array(videos)\n",
        "\n",
        "labels_2d = np.zeros((len(videos_3d),num_frames))\n",
        "labels_2d[0:videos_2d_len,:] = 1\n",
        "\n",
        "time_3d = np.array(time_3d)"
      ],
      "execution_count": null,
      "outputs": [
        {
          "output_type": "stream",
          "text": [
            "<pytictoc.TicToc object at 0x7f222644be90>\n",
            "Frames_ 100 , video_ 0 Done, Time_Elapsed:  0.593  Seconds\n",
            "Frames_ 100 , video_ 0 Done, Time_Elapsed:  0.88  Seconds\n",
            "Frames_ 100 , video_ 0 Done, Time_Elapsed:  1.168  Seconds\n",
            "Frames_ 100 , video_ 0 Done, Time_Elapsed:  1.457  Seconds\n",
            "Frames_ 100 , video_ 0 Done, Time_Elapsed:  1.759  Seconds\n",
            "Frames_ 100 , video_ 0 Done, Time_Elapsed:  2.052  Seconds\n",
            "Frames_ 100 , video_ 0 Done, Time_Elapsed:  2.355  Seconds\n",
            "Frames_ 100 , video_ 0 Done, Time_Elapsed:  2.65  Seconds\n",
            "Frames_ 100 , video_ 0 Done, Time_Elapsed:  2.944  Seconds\n",
            "Frames_ 100 , video_ 0 Done, Time_Elapsed:  3.239  Seconds\n",
            "Frames_ 100 , video_ 0 Done, Time_Elapsed:  3.527  Seconds\n",
            "Frames_ 100 , video_ 0 Done, Time_Elapsed:  3.821  Seconds\n",
            "Frames_ 100 , video_ 0 Done, Time_Elapsed:  4.116  Seconds\n",
            "Frames_ 100 , video_ 0 Done, Time_Elapsed:  4.406  Seconds\n",
            "Frames_ 100 , video_ 0 Done, Time_Elapsed:  4.697  Seconds\n",
            "Frames_ 100 , video_ 0 Done, Time_Elapsed:  4.987  Seconds\n",
            "Frames_ 100 , video_ 0 Done, Time_Elapsed:  5.278  Seconds\n",
            "Frames_ 100 , video_ 0 Done, Time_Elapsed:  5.569  Seconds\n",
            "Frames_ 100 , video_ 0 Done, Time_Elapsed:  5.866  Seconds\n",
            "Frames_ 100 , video_ 0 Done, Time_Elapsed:  6.158  Seconds\n",
            "Frames_ 100 , video_ 0 Done, Time_Elapsed:  6.453  Seconds\n",
            "Frames_ 100 , video_ 0 Done, Time_Elapsed:  6.752  Seconds\n",
            "Frames_ 100 , video_ 0 Done, Time_Elapsed:  7.042  Seconds\n",
            "Frames_ 100 , video_ 0 Done, Time_Elapsed:  7.331  Seconds\n",
            "Frames_ 100 , video_ 0 Done, Time_Elapsed:  7.621  Seconds\n",
            "Frames_ 100 , video_ 0 Done, Time_Elapsed:  7.915  Seconds\n",
            "Frames_ 100 , video_ 0 Done, Time_Elapsed:  8.206  Seconds\n",
            "Frames_ 100 , video_ 0 Done, Time_Elapsed:  8.498  Seconds\n",
            "Frames_ 100 , video_ 0 Done, Time_Elapsed:  8.79  Seconds\n",
            "Frames_ 100 , video_ 0 Done, Time_Elapsed:  9.079  Seconds\n",
            "Frames_ 100 , video_ 0 Done, Time_Elapsed:  9.366  Seconds\n",
            "Frames_ 100 , video_ 0 Done, Time_Elapsed:  9.663  Seconds\n",
            "Frames_ 100 , video_ 0 Done, Time_Elapsed:  9.953  Seconds\n",
            "Frames_ 100 , video_ 0 Done, Time_Elapsed:  10.242  Seconds\n",
            "Frames_ 100 , video_ 0 Done, Time_Elapsed:  10.532  Seconds\n",
            "Frames_ 100 , video_ 0 Done, Time_Elapsed:  10.826  Seconds\n",
            "Frames_ 100 , video_ 0 Done, Time_Elapsed:  11.115  Seconds\n",
            "Frames_ 100 , video_ 0 Done, Time_Elapsed:  11.403  Seconds\n",
            "Frames_ 100 , video_ 0 Done, Time_Elapsed:  11.693  Seconds\n",
            "Frames_ 100 , video_ 0 Done, Time_Elapsed:  11.986  Seconds\n",
            "Frames_ 100 , video_ 0 Done, Time_Elapsed:  12.277  Seconds\n",
            "Frames_ 100 , video_ 0 Done, Time_Elapsed:  12.578  Seconds\n",
            "Frames_ 100 , video_ 0 Done, Time_Elapsed:  12.871  Seconds\n",
            "Frames_ 100 , video_ 0 Done, Time_Elapsed:  13.159  Seconds\n",
            "Frames_ 100 , video_ 0 Done, Time_Elapsed:  13.451  Seconds\n",
            "Frames_ 100 , video_ 0 Done, Time_Elapsed:  13.741  Seconds\n",
            "Frames_ 100 , video_ 0 Done, Time_Elapsed:  14.036  Seconds\n",
            "Frames_ 100 , video_ 0 Done, Time_Elapsed:  14.326  Seconds\n",
            "Frames_ 100 , video_ 0 Done, Time_Elapsed:  14.618  Seconds\n",
            "Frames_ 100 , video_ 0 Done, Time_Elapsed:  14.913  Seconds\n",
            "Frames_ 100 , video_ 0 Done, Time_Elapsed:  15.202  Seconds\n",
            "Frames_ 100 , video_ 0 Done, Time_Elapsed:  15.496  Seconds\n",
            "Frames_ 100 , video_ 0 Done, Time_Elapsed:  15.788  Seconds\n",
            "Frames_ 100 , video_ 0 Done, Time_Elapsed:  16.085  Seconds\n",
            "Frames_ 100 , video_ 0 Done, Time_Elapsed:  16.376  Seconds\n",
            "Frames_ 100 , video_ 0 Done, Time_Elapsed:  16.664  Seconds\n",
            "Frames_ 100 , video_ 0 Done, Time_Elapsed:  16.954  Seconds\n",
            "Frames_ 100 , video_ 0 Done, Time_Elapsed:  17.243  Seconds\n",
            "Frames_ 100 , video_ 0 Done, Time_Elapsed:  17.534  Seconds\n",
            "Frames_ 100 , video_ 0 Done, Time_Elapsed:  17.824  Seconds\n",
            "Frames_ 100 , video_ 0 Done, Time_Elapsed:  18.109  Seconds\n",
            "Frames_ 100 , video_ 0 Done, Time_Elapsed:  18.395  Seconds\n",
            "Frames_ 100 , video_ 0 Done, Time_Elapsed:  18.683  Seconds\n",
            "Frames_ 100 , video_ 0 Done, Time_Elapsed:  18.972  Seconds\n",
            "Video_ 1 Done, Time_Elapsed:  19.108  Seconds\n",
            "Frames_ 100 , video_ 1 Done, Time_Elapsed:  19.409  Seconds\n",
            "Frames_ 100 , video_ 1 Done, Time_Elapsed:  19.702  Seconds\n",
            "Frames_ 100 , video_ 1 Done, Time_Elapsed:  19.997  Seconds\n",
            "Frames_ 100 , video_ 1 Done, Time_Elapsed:  20.289  Seconds\n",
            "Frames_ 100 , video_ 1 Done, Time_Elapsed:  20.58  Seconds\n",
            "Frames_ 100 , video_ 1 Done, Time_Elapsed:  20.874  Seconds\n",
            "Frames_ 100 , video_ 1 Done, Time_Elapsed:  21.164  Seconds\n",
            "Frames_ 100 , video_ 1 Done, Time_Elapsed:  21.458  Seconds\n",
            "Frames_ 100 , video_ 1 Done, Time_Elapsed:  21.757  Seconds\n",
            "Frames_ 100 , video_ 1 Done, Time_Elapsed:  22.054  Seconds\n",
            "Frames_ 100 , video_ 1 Done, Time_Elapsed:  22.345  Seconds\n",
            "Frames_ 100 , video_ 1 Done, Time_Elapsed:  22.658  Seconds\n",
            "Frames_ 100 , video_ 1 Done, Time_Elapsed:  22.952  Seconds\n",
            "Frames_ 100 , video_ 1 Done, Time_Elapsed:  23.244  Seconds\n",
            "Frames_ 100 , video_ 1 Done, Time_Elapsed:  23.542  Seconds\n",
            "Frames_ 100 , video_ 1 Done, Time_Elapsed:  23.834  Seconds\n",
            "Frames_ 100 , video_ 1 Done, Time_Elapsed:  24.13  Seconds\n",
            "Frames_ 100 , video_ 1 Done, Time_Elapsed:  24.421  Seconds\n",
            "Frames_ 100 , video_ 1 Done, Time_Elapsed:  24.722  Seconds\n",
            "Frames_ 100 , video_ 1 Done, Time_Elapsed:  25.02  Seconds\n",
            "Frames_ 100 , video_ 1 Done, Time_Elapsed:  25.312  Seconds\n",
            "Frames_ 100 , video_ 1 Done, Time_Elapsed:  25.61  Seconds\n",
            "Frames_ 100 , video_ 1 Done, Time_Elapsed:  25.899  Seconds\n",
            "Frames_ 100 , video_ 1 Done, Time_Elapsed:  26.194  Seconds\n",
            "Frames_ 100 , video_ 1 Done, Time_Elapsed:  26.485  Seconds\n",
            "Frames_ 100 , video_ 1 Done, Time_Elapsed:  26.774  Seconds\n",
            "Frames_ 100 , video_ 1 Done, Time_Elapsed:  27.069  Seconds\n",
            "Frames_ 100 , video_ 1 Done, Time_Elapsed:  27.36  Seconds\n",
            "Frames_ 100 , video_ 1 Done, Time_Elapsed:  27.654  Seconds\n",
            "Frames_ 100 , video_ 1 Done, Time_Elapsed:  27.947  Seconds\n",
            "Frames_ 100 , video_ 1 Done, Time_Elapsed:  28.238  Seconds\n",
            "Frames_ 100 , video_ 1 Done, Time_Elapsed:  28.53  Seconds\n",
            "Frames_ 100 , video_ 1 Done, Time_Elapsed:  28.822  Seconds\n",
            "Frames_ 100 , video_ 1 Done, Time_Elapsed:  29.114  Seconds\n",
            "Frames_ 100 , video_ 1 Done, Time_Elapsed:  29.402  Seconds\n",
            "Frames_ 100 , video_ 1 Done, Time_Elapsed:  29.696  Seconds\n",
            "Frames_ 100 , video_ 1 Done, Time_Elapsed:  29.993  Seconds\n",
            "Frames_ 100 , video_ 1 Done, Time_Elapsed:  30.284  Seconds\n",
            "Frames_ 100 , video_ 1 Done, Time_Elapsed:  30.585  Seconds\n",
            "Frames_ 100 , video_ 1 Done, Time_Elapsed:  30.875  Seconds\n",
            "Frames_ 100 , video_ 1 Done, Time_Elapsed:  31.177  Seconds\n",
            "Frames_ 100 , video_ 1 Done, Time_Elapsed:  31.476  Seconds\n",
            "Frames_ 100 , video_ 1 Done, Time_Elapsed:  31.763  Seconds\n",
            "Frames_ 100 , video_ 1 Done, Time_Elapsed:  32.054  Seconds\n",
            "Frames_ 100 , video_ 1 Done, Time_Elapsed:  32.345  Seconds\n",
            "Frames_ 100 , video_ 1 Done, Time_Elapsed:  32.647  Seconds\n",
            "Frames_ 100 , video_ 1 Done, Time_Elapsed:  32.94  Seconds\n",
            "Frames_ 100 , video_ 1 Done, Time_Elapsed:  33.238  Seconds\n",
            "Frames_ 100 , video_ 1 Done, Time_Elapsed:  33.531  Seconds\n",
            "Frames_ 100 , video_ 1 Done, Time_Elapsed:  33.819  Seconds\n",
            "Frames_ 100 , video_ 1 Done, Time_Elapsed:  34.108  Seconds\n",
            "Frames_ 100 , video_ 1 Done, Time_Elapsed:  34.402  Seconds\n",
            "Frames_ 100 , video_ 1 Done, Time_Elapsed:  34.687  Seconds\n",
            "Frames_ 100 , video_ 1 Done, Time_Elapsed:  34.977  Seconds\n",
            "Frames_ 100 , video_ 1 Done, Time_Elapsed:  35.266  Seconds\n",
            "Frames_ 100 , video_ 1 Done, Time_Elapsed:  35.55  Seconds\n",
            "Frames_ 100 , video_ 1 Done, Time_Elapsed:  35.831  Seconds\n",
            "Frames_ 100 , video_ 1 Done, Time_Elapsed:  36.119  Seconds\n",
            "Frames_ 100 , video_ 1 Done, Time_Elapsed:  36.401  Seconds\n",
            "Frames_ 100 , video_ 1 Done, Time_Elapsed:  36.683  Seconds\n",
            "Frames_ 100 , video_ 1 Done, Time_Elapsed:  36.965  Seconds\n",
            "Frames_ 100 , video_ 1 Done, Time_Elapsed:  37.25  Seconds\n",
            "Frames_ 100 , video_ 1 Done, Time_Elapsed:  37.533  Seconds\n",
            "Frames_ 100 , video_ 1 Done, Time_Elapsed:  37.815  Seconds\n",
            "Video_ 2 Done, Time_Elapsed:  37.949  Seconds\n"
          ],
          "name": "stdout"
        }
      ]
    },
    {
      "cell_type": "code",
      "metadata": {
        "id": "De_sZVeuRHyc"
      },
      "source": [
        "# ind = list(np.random.randint(0,len(videos_3d)-1,size=len(videos_3d)))\n",
        "videos_3d_temp = videos_3d\n",
        "videos_2d_shuffled = np.reshape(videos_3d_temp, (-1,224,224,3))\n",
        "videos_2d_shuffled = videos_2d_shuffled[:len(videos_2d_shuffled):frame_rate]\n",
        "\n",
        "time_3d_temp = time_3d\n",
        "time_2d_shuffled = np.reshape(time_3d_temp, (-1,1))\n",
        "time_2d_shuffled = time_2d_shuffled[:len(time_2d_shuffled):frame_rate]\n",
        "time_2d_shuffled = time_2d_shuffled.T[0]\n",
        "\n",
        "labels_2d_temp = labels_2d\n",
        "labels_2d_shuffled = labels_2d_temp.flatten()\n",
        "labels_2d_shuffled = labels_2d_shuffled[:len(labels_2d_shuffled):frame_rate]"
      ],
      "execution_count": null,
      "outputs": []
    },
    {
      "cell_type": "code",
      "metadata": {
        "id": "JM6kPUuLfqR2"
      },
      "source": [
        "u_test = ResNet50_loaded.predict(videos_2d_shuffled)"
      ],
      "execution_count": null,
      "outputs": []
    },
    {
      "cell_type": "code",
      "metadata": {
        "id": "PfQRqGaEfsOc"
      },
      "source": [
        "u_test.shape"
      ],
      "execution_count": null,
      "outputs": []
    },
    {
      "cell_type": "code",
      "metadata": {
        "id": "ii7HKiM4ftOk"
      },
      "source": [
        "len(u_test)//frame"
      ],
      "execution_count": null,
      "outputs": []
    },
    {
      "cell_type": "code",
      "metadata": {
        "id": "IieBO9oBfuGc"
      },
      "source": [
        "frame"
      ],
      "execution_count": null,
      "outputs": []
    },
    {
      "cell_type": "code",
      "metadata": {
        "colab": {
          "base_uri": "https://localhost:8080/",
          "height": 296
        },
        "id": "dt-MymNmfvkI",
        "outputId": "4143e5fd-a047-4723-d652-cb5c7aa1192d"
      },
      "source": [
        "plt.plot(u_test)\n",
        "plt.ylim(-.01,1.1)\n",
        "plt.ylabel('prediction')\n",
        "plt.xlabel('frame number')"
      ],
      "execution_count": null,
      "outputs": [
        {
          "output_type": "execute_result",
          "data": {
            "text/plain": [
              "Text(0.5, 0, 'frame number')"
            ]
          },
          "metadata": {
            "tags": []
          },
          "execution_count": 26
        },
        {
          "output_type": "display_data",
          "data": {
            "image/png": "[encoded data removed]",
            "text/plain": [
              "<Figure size 432x288 with 1 Axes>"
            ]
          },
          "metadata": {
            "tags": [],
            "needs_background": "light"
          }
        }
      ]
    },
    {
      "cell_type": "code",
      "metadata": {
        "colab": {
          "base_uri": "https://localhost:8080/",
          "height": 1000
        },
        "id": "sleXgclKJBr_",
        "outputId": "8bb326ad-0380-4ccb-ac44-30ea3f8e47f4"
      },
      "source": [
        "clip_length = int(num_frames/frame_rate)\n",
        "num_vid_parts = int((len(u_test)/clip_length))\n",
        "        \n",
        "num_col = 4\n",
        "num_row = math.ceil(num_vid_parts/num_col)\n",
        "\n",
        "conf=[]\n",
        "sec_per_batch = 2\n",
        "for i in np.arange(int((len(u_test)/clip_length))):\n",
        "    \n",
        "    plt.figure()\n",
        "    time = time_2d_shuffled[i*clip_length: (i+1)*clip_length] + i*sec_per_batch\n",
        "    plt.subplot(num_row, num_col, i+1)\n",
        "    conf=u_test[i*clip_length: (i+1)*clip_length]\n",
        "    ave_conf=sum(conf)/len(conf)\n",
        "    if ave_conf > 0.95:\n",
        "      print(ave_conf)\n",
        "      print('time:',time)\n",
        "    plt.scatter(x = time, y = u_test[i*clip_length: (i+1)*clip_length])\n",
        "    \n",
        "    if i == 0:\n",
        "        plt.xlabel(\"time (secs)\")\n",
        "        plt.ylabel(\"prediction\")\n",
        "plt.show()  \n",
        "# print(conf.shape)\n",
        "# for i in range(len(conf))\n",
        "#   print(sum(conf[i][0])/len(conf[i]))"
      ],
      "execution_count": null,
      "outputs": [
        {
          "output_type": "stream",
          "text": [
            "[0.99991906]\n",
            "time: [28.  28.2 28.4 28.6 28.8 29.  29.2 29.4 29.6 29.8 30.  30.2 30.4 30.6\n",
            " 30.8 31.  31.2 31.4 31.6 31.8]\n",
            "[0.9639169]\n",
            "time: [32.  32.2 32.4 32.6 32.8 33.  33.2 33.4 33.6 33.8 34.  34.2 34.4 34.6\n",
            " 34.8 35.  35.2 35.4 35.6 35.8]\n",
            "[0.9999865]\n",
            "time: [42.  42.2 42.4 42.6 42.8 43.  43.2 43.4 43.6 43.8 44.  44.2 44.4 44.6\n",
            " 44.8 45.  45.2 45.4 45.6 45.8]\n",
            "[0.9920405]\n",
            "time: [50.  50.2 50.4 50.6 50.8 51.  51.2 51.4 51.6 51.8 52.  52.2 52.4 52.6\n",
            " 52.8 53.  53.2 53.4 53.6 53.8]\n",
            "[0.9999838]\n",
            "time: [54.  54.2 54.4 54.6 54.8 55.  55.2 55.4 55.6 55.8 56.  56.2 56.4 56.6\n",
            " 56.8 57.  57.2 57.4 57.6 57.8]\n"
          ],
          "name": "stdout"
        },
        {
          "output_type": "stream",
          "text": [
            "/usr/local/lib/python3.7/dist-packages/ipykernel_launcher.py:11: RuntimeWarning: More than 20 figures have been opened. Figures created through the pyplot interface (`matplotlib.pyplot.figure`) are retained until explicitly closed and may consume too much memory. (To control this warning, see the rcParam `figure.max_open_warning`).\n",
            "  # This is added back by InteractiveShellApp.init_path()\n"
          ],
          "name": "stderr"
        },
        {
          "output_type": "stream",
          "text": [
            "[0.9999798]\n",
            "time: [56.  56.2 56.4 56.6 56.8 57.  57.2 57.4 57.6 57.8 58.  58.2 58.4 58.6\n",
            " 58.8 59.  59.2 59.4 59.6 59.8]\n",
            "[0.99999714]\n",
            "time: [58.  58.2 58.4 58.6 58.8 59.  59.2 59.4 59.6 59.8 60.  60.2 60.4 60.6\n",
            " 60.8 61.  61.2 61.4 61.6 61.8]\n",
            "[0.99999845]\n",
            "time: [60.  60.2 60.4 60.6 60.8 61.  61.2 61.4 61.6 61.8 62.  62.2 62.4 62.6\n",
            " 62.8 63.  63.2 63.4 63.6 63.8]\n",
            "[0.99998635]\n",
            "time: [62.  62.2 62.4 62.6 62.8 63.  63.2 63.4 63.6 63.8 64.  64.2 64.4 64.6\n",
            " 64.8 65.  65.2 65.4 65.6 65.8]\n",
            "[0.9999984]\n",
            "time: [64.  64.2 64.4 64.6 64.8 65.  65.2 65.4 65.6 65.8 66.  66.2 66.4 66.6\n",
            " 66.8 67.  67.2 67.4 67.6 67.8]\n",
            "[1.]\n",
            "time: [66.  66.2 66.4 66.6 66.8 67.  67.2 67.4 67.6 67.8 68.  68.2 68.4 68.6\n",
            " 68.8 69.  69.2 69.4 69.6 69.8]\n",
            "[0.9999984]\n",
            "time: [68.  68.2 68.4 68.6 68.8 69.  69.2 69.4 69.6 69.8 70.  70.2 70.4 70.6\n",
            " 70.8 71.  71.2 71.4 71.6 71.8]\n",
            "[0.9999998]\n",
            "time: [70.  70.2 70.4 70.6 70.8 71.  71.2 71.4 71.6 71.8 72.  72.2 72.4 72.6\n",
            " 72.8 73.  73.2 73.4 73.6 73.8]\n",
            "[1.]\n",
            "time: [72.  72.2 72.4 72.6 72.8 73.  73.2 73.4 73.6 73.8 74.  74.2 74.4 74.6\n",
            " 74.8 75.  75.2 75.4 75.6 75.8]\n",
            "[1.]\n",
            "time: [74.  74.2 74.4 74.6 74.8 75.  75.2 75.4 75.6 75.8 76.  76.2 76.4 76.6\n",
            " 76.8 77.  77.2 77.4 77.6 77.8]\n",
            "[1.]\n",
            "time: [76.  76.2 76.4 76.6 76.8 77.  77.2 77.4 77.6 77.8 78.  78.2 78.4 78.6\n",
            " 78.8 79.  79.2 79.4 79.6 79.8]\n",
            "[1.]\n",
            "time: [78.  78.2 78.4 78.6 78.8 79.  79.2 79.4 79.6 79.8 80.  80.2 80.4 80.6\n",
            " 80.8 81.  81.2 81.4 81.6 81.8]\n",
            "[1.]\n",
            "time: [80.  80.2 80.4 80.6 80.8 81.  81.2 81.4 81.6 81.8 82.  82.2 82.4 82.6\n",
            " 82.8 83.  83.2 83.4 83.6 83.8]\n",
            "[1.]\n",
            "time: [82.  82.2 82.4 82.6 82.8 83.  83.2 83.4 83.6 83.8 84.  84.2 84.4 84.6\n",
            " 84.8 85.  85.2 85.4 85.6 85.8]\n",
            "[1.]\n",
            "time: [84.  84.2 84.4 84.6 84.8 85.  85.2 85.4 85.6 85.8 86.  86.2 86.4 86.6\n",
            " 86.8 87.  87.2 87.4 87.6 87.8]\n",
            "[0.99999934]\n",
            "time: [86.  86.2 86.4 86.6 86.8 87.  87.2 87.4 87.6 87.8 88.  88.2 88.4 88.6\n",
            " 88.8 89.  89.2 89.4 89.6 89.8]\n",
            "[1.]\n",
            "time: [88.  88.2 88.4 88.6 88.8 89.  89.2 89.4 89.6 89.8 90.  90.2 90.4 90.6\n",
            " 90.8 91.  91.2 91.4 91.6 91.8]\n",
            "[1.]\n",
            "time: [90.  90.2 90.4 90.6 90.8 91.  91.2 91.4 91.6 91.8 92.  92.2 92.4 92.6\n",
            " 92.8 93.  93.2 93.4 93.6 93.8]\n",
            "[0.9999998]\n",
            "time: [96.  96.2 96.4 96.6 96.8 97.  97.2 97.4 97.6 97.8 98.  98.2 98.4 98.6\n",
            " 98.8 99.  99.2 99.4 99.6 99.8]\n",
            "[0.9997505]\n",
            "time: [ 98.   98.2  98.4  98.6  98.8  99.   99.2  99.4  99.6  99.8 100.  100.2\n",
            " 100.4 100.6 100.8 101.  101.2 101.4 101.6 101.8]\n",
            "[0.9999962]\n",
            "time: [100.  100.2 100.4 100.6 100.8 101.  101.2 101.4 101.6 101.8 102.  102.2\n",
            " 102.4 102.6 102.8 103.  103.2 103.4 103.6 103.8]\n",
            "[0.99999964]\n",
            "time: [104.  104.2 104.4 104.6 104.8 105.  105.2 105.4 105.6 105.8 106.  106.2\n",
            " 106.4 106.6 106.8 107.  107.2 107.4 107.6 107.8]\n",
            "[1.]\n",
            "time: [108.  108.2 108.4 108.6 108.8 109.  109.2 109.4 109.6 109.8 110.  110.2\n",
            " 110.4 110.6 110.8 111.  111.2 111.4 111.6 111.8]\n",
            "[0.99991906]\n",
            "time: [158.  158.2 158.4 158.6 158.8 159.  159.2 159.4 159.6 159.8 160.  160.2\n",
            " 160.4 160.6 160.8 161.  161.2 161.4 161.6 161.8]\n",
            "[0.9639169]\n",
            "time: [162.  162.2 162.4 162.6 162.8 163.  163.2 163.4 163.6 163.8 164.  164.2\n",
            " 164.4 164.6 164.8 165.  165.2 165.4 165.6 165.8]\n",
            "[0.9999865]\n",
            "time: [172.  172.2 172.4 172.6 172.8 173.  173.2 173.4 173.6 173.8 174.  174.2\n",
            " 174.4 174.6 174.8 175.  175.2 175.4 175.6 175.8]\n",
            "[0.9920405]\n",
            "time: [180.  180.2 180.4 180.6 180.8 181.  181.2 181.4 181.6 181.8 182.  182.2\n",
            " 182.4 182.6 182.8 183.  183.2 183.4 183.6 183.8]\n",
            "[0.9999838]\n",
            "time: [184.  184.2 184.4 184.6 184.8 185.  185.2 185.4 185.6 185.8 186.  186.2\n",
            " 186.4 186.6 186.8 187.  187.2 187.4 187.6 187.8]\n",
            "[0.9999798]\n",
            "time: [186.  186.2 186.4 186.6 186.8 187.  187.2 187.4 187.6 187.8 188.  188.2\n",
            " 188.4 188.6 188.8 189.  189.2 189.4 189.6 189.8]\n",
            "[0.99999714]\n",
            "time: [188.  188.2 188.4 188.6 188.8 189.  189.2 189.4 189.6 189.8 190.  190.2\n",
            " 190.4 190.6 190.8 191.  191.2 191.4 191.6 191.8]\n",
            "[0.99999845]\n",
            "time: [190.  190.2 190.4 190.6 190.8 191.  191.2 191.4 191.6 191.8 192.  192.2\n",
            " 192.4 192.6 192.8 193.  193.2 193.4 193.6 193.8]\n",
            "[0.99998635]\n",
            "time: [192.  192.2 192.4 192.6 192.8 193.  193.2 193.4 193.6 193.8 194.  194.2\n",
            " 194.4 194.6 194.8 195.  195.2 195.4 195.6 195.8]\n",
            "[0.9999984]\n",
            "time: [194.  194.2 194.4 194.6 194.8 195.  195.2 195.4 195.6 195.8 196.  196.2\n",
            " 196.4 196.6 196.8 197.  197.2 197.4 197.6 197.8]\n",
            "[1.]\n",
            "time: [196.  196.2 196.4 196.6 196.8 197.  197.2 197.4 197.6 197.8 198.  198.2\n",
            " 198.4 198.6 198.8 199.  199.2 199.4 199.6 199.8]\n",
            "[0.9999984]\n",
            "time: [198.  198.2 198.4 198.6 198.8 199.  199.2 199.4 199.6 199.8 200.  200.2\n",
            " 200.4 200.6 200.8 201.  201.2 201.4 201.6 201.8]\n",
            "[0.9999998]\n",
            "time: [200.  200.2 200.4 200.6 200.8 201.  201.2 201.4 201.6 201.8 202.  202.2\n",
            " 202.4 202.6 202.8 203.  203.2 203.4 203.6 203.8]\n",
            "[1.]\n",
            "time: [202.  202.2 202.4 202.6 202.8 203.  203.2 203.4 203.6 203.8 204.  204.2\n",
            " 204.4 204.6 204.8 205.  205.2 205.4 205.6 205.8]\n",
            "[1.]\n",
            "time: [204.  204.2 204.4 204.6 204.8 205.  205.2 205.4 205.6 205.8 206.  206.2\n",
            " 206.4 206.6 206.8 207.  207.2 207.4 207.6 207.8]\n",
            "[1.]\n",
            "time: [206.  206.2 206.4 206.6 206.8 207.  207.2 207.4 207.6 207.8 208.  208.2\n",
            " 208.4 208.6 208.8 209.  209.2 209.4 209.6 209.8]\n",
            "[1.]\n",
            "time: [208.  208.2 208.4 208.6 208.8 209.  209.2 209.4 209.6 209.8 210.  210.2\n",
            " 210.4 210.6 210.8 211.  211.2 211.4 211.6 211.8]\n",
            "[1.]\n",
            "time: [210.  210.2 210.4 210.6 210.8 211.  211.2 211.4 211.6 211.8 212.  212.2\n",
            " 212.4 212.6 212.8 213.  213.2 213.4 213.6 213.8]\n",
            "[1.]\n",
            "time: [212.  212.2 212.4 212.6 212.8 213.  213.2 213.4 213.6 213.8 214.  214.2\n",
            " 214.4 214.6 214.8 215.  215.2 215.4 215.6 215.8]\n",
            "[1.]\n",
            "time: [214.  214.2 214.4 214.6 214.8 215.  215.2 215.4 215.6 215.8 216.  216.2\n",
            " 216.4 216.6 216.8 217.  217.2 217.4 217.6 217.8]\n",
            "[0.99999934]\n",
            "time: [216.  216.2 216.4 216.6 216.8 217.  217.2 217.4 217.6 217.8 218.  218.2\n",
            " 218.4 218.6 218.8 219.  219.2 219.4 219.6 219.8]\n",
            "[1.]\n",
            "time: [218.  218.2 218.4 218.6 218.8 219.  219.2 219.4 219.6 219.8 220.  220.2\n",
            " 220.4 220.6 220.8 221.  221.2 221.4 221.6 221.8]\n",
            "[1.]\n",
            "time: [220.  220.2 220.4 220.6 220.8 221.  221.2 221.4 221.6 221.8 222.  222.2\n",
            " 222.4 222.6 222.8 223.  223.2 223.4 223.6 223.8]\n",
            "[0.9999998]\n",
            "time: [226.  226.2 226.4 226.6 226.8 227.  227.2 227.4 227.6 227.8 228.  228.2\n",
            " 228.4 228.6 228.8 229.  229.2 229.4 229.6 229.8]\n",
            "[0.9997505]\n",
            "time: [228.  228.2 228.4 228.6 228.8 229.  229.2 229.4 229.6 229.8 230.  230.2\n",
            " 230.4 230.6 230.8 231.  231.2 231.4 231.6 231.8]\n",
            "[0.9999962]\n",
            "time: [230.  230.2 230.4 230.6 230.8 231.  231.2 231.4 231.6 231.8 232.  232.2\n",
            " 232.4 232.6 232.8 233.  233.2 233.4 233.6 233.8]\n",
            "[0.99999964]\n",
            "time: [234.  234.2 234.4 234.6 234.8 235.  235.2 235.4 235.6 235.8 236.  236.2\n",
            " 236.4 236.6 236.8 237.  237.2 237.4 237.6 237.8]\n",
            "[1.]\n",
            "time: [238.  238.2 238.4 238.6 238.8 239.  239.2 239.4 239.6 239.8 240.  240.2\n",
            " 240.4 240.6 240.8 241.  241.2 241.4 241.6 241.8]\n"
          ],
          "name": "stdout"
        },
        {
          "output_type": "display_data",
          "data": {
            "image/png": "[encoded data removed]",
            "text/plain": [
              "<Figure size 432x288 with 1 Axes>"
            ]
          },
          "metadata": {
            "tags": [],
            "needs_background": "light"
          }
        },
        {
          "output_type": "display_data",
          "data": {
            "image/png": "[encoded data removed]",
            "text/plain": [
              "<Figure size 432x288 with 1 Axes>"
            ]
          },
          "metadata": {
            "tags": [],
            "needs_background": "light"
          }
        },
        {
          "output_type": "display_data",
          "data": {
            "image/png": "[encoded data removed]",
            "text/plain": [
              "<Figure size 432x288 with 1 Axes>"
            ]
          },
          "metadata": {
            "tags": [],
            "needs_background": "light"
          }
        },
        {
          "output_type": "display_data",
          "data": {
            "image/png": "[encoded data removed]",
            "text/plain": [
              "<Figure size 432x288 with 1 Axes>"
            ]
          },
          "metadata": {
            "tags": [],
            "needs_background": "light"
          }
        },
        {
          "output_type": "display_data",
          "data": {
            "image/png": "[encoded data removed]",
            "text/plain": [
              "<Figure size 432x288 with 1 Axes>"
            ]
          },
          "metadata": {
            "tags": [],
            "needs_background": "light"
          }
        },
        {
          "output_type": "display_data",
          "data": {
            "image/png": "[encoded data removed]",
            "text/plain": [
              "<Figure size 432x288 with 1 Axes>"
            ]
          },
          "metadata": {
            "tags": [],
            "needs_background": "light"
          }
        },
        {
          "output_type": "display_data",
          "data": {
            "image/png": "[encoded data removed]",
            "text/plain": [
              "<Figure size 432x288 with 1 Axes>"
            ]
          },
          "metadata": {
            "tags": [],
            "needs_background": "light"
          }
        },
        {
          "output_type": "display_data",
          "data": {
            "image/png": "[encoded data removed]",
            "text/plain": [
              "<Figure size 432x288 with 1 Axes>"
            ]
          },
          "metadata": {
            "tags": [],
            "needs_background": "light"
          }
        },
        {
          "output_type": "display_data",
          "data": {
            "image/png": "[encoded data removed]",
            "text/plain": [
              "<Figure size 432x288 with 1 Axes>"
            ]
          },
          "metadata": {
            "tags": [],
            "needs_background": "light"
          }
        },
        {
          "output_type": "display_data",
          "data": {
            "image/png": "[encoded data removed]",
            "text/plain": [
              "<Figure size 432x288 with 1 Axes>"
            ]
          },
          "metadata": {
            "tags": [],
            "needs_background": "light"
          }
        },
        {
          "output_type": "display_data",
          "data": {
            "image/png": "[encoded data removed]",
            "text/plain": [
              "<Figure size 432x288 with 1 Axes>"
            ]
          },
          "metadata": {
            "tags": [],
            "needs_background": "light"
          }
        },
        {
          "output_type": "display_data",
          "data": {
            "image/png": "[encoded data removed]",
            "text/plain": [
              "<Figure size 432x288 with 1 Axes>"
            ]
          },
          "metadata": {
            "tags": [],
            "needs_background": "light"
          }
        },
        {
          "output_type": "display_data",
          "data": {
            "image/png": "[encoded data removed]",
            "text/plain": [
              "<Figure size 432x288 with 1 Axes>"
            ]
          },
          "metadata": {
            "tags": [],
            "needs_background": "light"
          }
        },
        {
          "output_type": "display_data",
          "data": {
            "image/png": "[encoded data removed]",
            "text/plain": [
              "<Figure size 432x288 with 1 Axes>"
            ]
          },
          "metadata": {
            "tags": [],
            "needs_background": "light"
          }
        },
        {
          "output_type": "display_data",
          "data": {
            "image/png": "[encoded data removed]",
            "text/plain": [
              "<Figure size 432x288 with 1 Axes>"
            ]
          },
          "metadata": {
            "tags": [],
            "needs_background": "light"
          }
        },
        {
          "output_type": "display_data",
          "data": {
            "image/png": "[encoded data removed]",
            "text/plain": [
              "<Figure size 432x288 with 1 Axes>"
            ]
          },
          "metadata": {
            "tags": [],
            "needs_background": "light"
          }
        },
        {
          "output_type": "display_data",
          "data": {
            "image/png": "[encoded data removed]",
            "text/plain": [
              "<Figure size 432x288 with 1 Axes>"
            ]
          },
          "metadata": {
            "tags": [],
            "needs_background": "light"
          }
        },
        {
          "output_type": "display_data",
          "data": {
            "image/png": "[encoded data removed]",
            "text/plain": [
              "<Figure size 432x288 with 1 Axes>"
            ]
          },
          "metadata": {
            "tags": [],
            "needs_background": "light"
          }
        },
        {
          "output_type": "display_data",
          "data": {
            "image/png": "[encoded data removed]",
            "text/plain": [
              "<Figure size 432x288 with 1 Axes>"
            ]
          },
          "metadata": {
            "tags": [],
            "needs_background": "light"
          }
        },
        {
          "output_type": "display_data",
          "data": {
            "image/png": "[encoded data removed]",
            "text/plain": [
              "<Figure size 432x288 with 1 Axes>"
            ]
          },
          "metadata": {
            "tags": [],
            "needs_background": "light"
          }
        },
        {
          "output_type": "display_data",
          "data": {
            "image/png": "[encoded data removed]",
            "text/plain": [
              "<Figure size 432x288 with 1 Axes>"
            ]
          },
          "metadata": {
            "tags": [],
            "needs_background": "light"
          }
        },
        {
          "output_type": "display_data",
          "data": {
            "image/png": "[encoded data removed]",
            "text/plain": [
              "<Figure size 432x288 with 1 Axes>"
            ]
          },
          "metadata": {
            "tags": [],
            "needs_background": "light"
          }
        },
        {
          "output_type": "display_data",
          "data": {
            "image/png": "[encoded data removed]",
            "text/plain": [
              "<Figure size 432x288 with 1 Axes>"
            ]
          },
          "metadata": {
            "tags": [],
            "needs_background": "light"
          }
        },
        {
          "output_type": "display_data",
          "data": {
            "image/png": "[encoded data removed]",
            "text/plain": [
              "<Figure size 432x288 with 1 Axes>"
            ]
          },
          "metadata": {
            "tags": [],
            "needs_background": "light"
          }
        },
        {
          "output_type": "display_data",
          "data": {
            "image/png": "[encoded data removed]",
            "text/plain": [
              "<Figure size 432x288 with 1 Axes>"
            ]
          },
          "metadata": {
            "tags": [],
            "needs_background": "light"
          }
        },
        {
          "output_type": "display_data",
          "data": {
            "image/png": "[encoded data removed]",
            "text/plain": [
              "<Figure size 432x288 with 1 Axes>"
            ]
          },
          "metadata": {
            "tags": [],
            "needs_background": "light"
          }
        },
        {
          "output_type": "display_data",
          "data": {
            "image/png": "[encoded data removed]",
            "text/plain": [
              "<Figure size 432x288 with 1 Axes>"
            ]
          },
          "metadata": {
            "tags": [],
            "needs_background": "light"
          }
        },
        {
          "output_type": "display_data",
          "data": {
            "image/png": "[encoded data removed]",
            "text/plain": [
              "<Figure size 432x288 with 1 Axes>"
            ]
          },
          "metadata": {
            "tags": [],
            "needs_background": "light"
          }
        },
        {
          "output_type": "display_data",
          "data": {
            "image/png": "[encoded data removed]",
            "text/plain": [
              "<Figure size 432x288 with 1 Axes>"
            ]
          },
          "metadata": {
            "tags": [],
            "needs_background": "light"
          }
        },
        {
          "output_type": "display_data",
          "data": {
            "image/png": "[encoded data removed]",
            "text/plain": [
              "<Figure size 432x288 with 1 Axes>"
            ]
          },
          "metadata": {
            "tags": [],
            "needs_background": "light"
          }
        },
        {
          "output_type": "display_data",
          "data": {
            "image/png": "[encoded data removed]",
            "text/plain": [
              "<Figure size 432x288 with 1 Axes>"
            ]
          },
          "metadata": {
            "tags": [],
            "needs_background": "light"
          }
        },
        {
          "output_type": "display_data",
          "data": {
            "image/png": "[encoded data removed]",
            "text/plain": [
              "<Figure size 432x288 with 1 Axes>"
            ]
          },
          "metadata": {
            "tags": [],
            "needs_background": "light"
          }
        },
        {
          "output_type": "display_data",
          "data": {
            "image/png": "[encoded data removed]",
            "text/plain": [
              "<Figure size 432x288 with 1 Axes>"
            ]
          },
          "metadata": {
            "tags": [],
            "needs_background": "light"
          }
        },
        {
          "output_type": "display_data",
          "data": {
            "image/png": "[encoded data removed]",
            "text/plain": [
              "<Figure size 432x288 with 1 Axes>"
            ]
          },
          "metadata": {
            "tags": [],
            "needs_background": "light"
          }
        },
        {
          "output_type": "display_data",
          "data": {
            "image/png": "[encoded data removed]",
            "text/plain": [
              "<Figure size 432x288 with 1 Axes>"
            ]
          },
          "metadata": {
            "tags": [],
            "needs_background": "light"
          }
        },
        {
          "output_type": "display_data",
          "data": {
            "image/png": "[encoded data removed]",
            "text/plain": [
              "<Figure size 432x288 with 1 Axes>"
            ]
          },
          "metadata": {
            "tags": [],
            "needs_background": "light"
          }
        },
        {
          "output_type": "display_data",
          "data": {
            "image/png": "[encoded data removed]",
            "text/plain": [
              "<Figure size 432x288 with 1 Axes>"
            ]
          },
          "metadata": {
            "tags": [],
            "needs_background": "light"
          }
        },
        {
          "output_type": "display_data",
          "data": {
            "image/png": "[encoded data removed]",
            "text/plain": [
              "<Figure size 432x288 with 1 Axes>"
            ]
          },
          "metadata": {
            "tags": [],
            "needs_background": "light"
          }
        },
        {
          "output_type": "display_data",
          "data": {
            "image/png": "[encoded data removed]",
            "text/plain": [
              "<Figure size 432x288 with 1 Axes>"
            ]
          },
          "metadata": {
            "tags": [],
            "needs_background": "light"
          }
        },
        {
          "output_type": "display_data",
          "data": {
            "image/png": "[encoded data removed]",
            "text/plain": [
              "<Figure size 432x288 with 1 Axes>"
            ]
          },
          "metadata": {
            "tags": [],
            "needs_background": "light"
          }
        },
        {
          "output_type": "display_data",
          "data": {
            "image/png": "[encoded data removed]",
            "text/plain": [
              "<Figure size 432x288 with 1 Axes>"
            ]
          },
          "metadata": {
            "tags": [],
            "needs_background": "light"
          }
        },
        {
          "output_type": "display_data",
          "data": {
            "image/png": "[encoded data removed]",
            "text/plain": [
              "<Figure size 432x288 with 1 Axes>"
            ]
          },
          "metadata": {
            "tags": [],
            "needs_background": "light"
          }
        },
        {
          "output_type": "display_data",
          "data": {
            "image/png": "[encoded data removed]",
            "text/plain": [
              "<Figure size 432x288 with 1 Axes>"
            ]
          },
          "metadata": {
            "tags": [],
            "needs_background": "light"
          }
        },
        {
          "output_type": "display_data",
          "data": {
            "image/png": "[encoded data removed]",
            "text/plain": [
              "<Figure size 432x288 with 1 Axes>"
            ]
          },
          "metadata": {
            "tags": [],
            "needs_background": "light"
          }
        },
        {
          "output_type": "display_data",
          "data": {
            "image/png": "[encoded data removed]",
            "text/plain": [
              "<Figure size 432x288 with 1 Axes>"
            ]
          },
          "metadata": {
            "tags": [],
            "needs_background": "light"
          }
        },
        {
          "output_type": "display_data",
          "data": {
            "image/png": "[encoded data removed]",
            "text/plain": [
              "<Figure size 432x288 with 1 Axes>"
            ]
          },
          "metadata": {
            "tags": [],
            "needs_background": "light"
          }
        },
        {
          "output_type": "display_data",
          "data": {
            "image/png": "[encoded data removed]",
            "text/plain": [
              "<Figure size 432x288 with 1 Axes>"
            ]
          },
          "metadata": {
            "tags": [],
            "needs_background": "light"
          }
        },
        {
          "output_type": "display_data",
          "data": {
            "image/png": "[encoded data removed]",
            "text/plain": [
              "<Figure size 432x288 with 1 Axes>"
            ]
          },
          "metadata": {
            "tags": [],
            "needs_background": "light"
          }
        },
        {
          "output_type": "display_data",
          "data": {
            "image/png": "[encoded data removed]",
            "text/plain": [
              "<Figure size 432x288 with 1 Axes>"
            ]
          },
          "metadata": {
            "tags": [],
            "needs_background": "light"
          }
        },
        {
          "output_type": "display_data",
          "data": {
            "image/png": "[encoded data removed]",
            "text/plain": [
              "<Figure size 432x288 with 1 Axes>"
            ]
          },
          "metadata": {
            "tags": [],
            "needs_background": "light"
          }
        },
        {
          "output_type": "display_data",
          "data": {
            "image/png": "[encoded data removed]",
            "text/plain": [
              "<Figure size 432x288 with 1 Axes>"
            ]
          },
          "metadata": {
            "tags": [],
            "needs_background": "light"
          }
        },
        {
          "output_type": "display_data",
          "data": {
            "image/png": "[encoded data removed]",
            "text/plain": [
              "<Figure size 432x288 with 1 Axes>"
            ]
          },
          "metadata": {
            "tags": [],
            "needs_background": "light"
          }
        },
        {
          "output_type": "display_data",
          "data": {
            "image/png": "[encoded data removed]",
            "text/plain": [
              "<Figure size 432x288 with 1 Axes>"
            ]
          },
          "metadata": {
            "tags": [],
            "needs_background": "light"
          }
        },
        {
          "output_type": "display_data",
          "data": {
            "image/png": "[encoded data removed]",
            "text/plain": [
              "<Figure size 432x288 with 1 Axes>"
            ]
          },
          "metadata": {
            "tags": [],
            "needs_background": "light"
          }
        },
        {
          "output_type": "display_data",
          "data": {
            "image/png": "[encoded data removed]",
            "text/plain": [
              "<Figure size 432x288 with 1 Axes>"
            ]
          },
          "metadata": {
            "tags": [],
            "needs_background": "light"
          }
        },
        {
          "output_type": "display_data",
          "data": {
            "image/png": "[encoded data removed]",
            "text/plain": [
              "<Figure size 432x288 with 1 Axes>"
            ]
          },
          "metadata": {
            "tags": [],
            "needs_background": "light"
          }
        },
        {
          "output_type": "display_data",
          "data": {
            "image/png": "[encoded data removed]",
            "text/plain": [
              "<Figure size 432x288 with 1 Axes>"
            ]
          },
          "metadata": {
            "tags": [],
            "needs_background": "light"
          }
        },
        {
          "output_type": "display_data",
          "data": {
            "image/png": "[encoded data removed]",
            "text/plain": [
              "<Figure size 432x288 with 1 Axes>"
            ]
          },
          "metadata": {
            "tags": [],
            "needs_background": "light"
          }
        },
        {
          "output_type": "display_data",
          "data": {
            "image/png": "[encoded data removed]",
            "text/plain": [
              "<Figure size 432x288 with 1 Axes>"
            ]
          },
          "metadata": {
            "tags": [],
            "needs_background": "light"
          }
        },
        {
          "output_type": "display_data",
          "data": {
            "image/png": "[encoded data removed]",
            "text/plain": [
              "<Figure size 432x288 with 1 Axes>"
            ]
          },
          "metadata": {
            "tags": [],
            "needs_background": "light"
          }
        },
        {
          "output_type": "display_data",
          "data": {
            "image/png": "[encoded data removed]",
            "text/plain": [
              "<Figure size 432x288 with 1 Axes>"
            ]
          },
          "metadata": {
            "tags": [],
            "needs_background": "light"
          }
        },
        {
          "output_type": "display_data",
          "data": {
            "image/png": "[encoded data removed]",
            "text/plain": [
              "<Figure size 432x288 with 1 Axes>"
            ]
          },
          "metadata": {
            "tags": [],
            "needs_background": "light"
          }
        },
        {
          "output_type": "display_data",
          "data": {
            "image/png": "[encoded data removed]",
            "text/plain": [
              "<Figure size 432x288 with 1 Axes>"
            ]
          },
          "metadata": {
            "tags": [],
            "needs_background": "light"
          }
        },
        {
          "output_type": "display_data",
          "data": {
            "image/png": "[encoded data removed]",
            "text/plain": [
              "<Figure size 432x288 with 1 Axes>"
            ]
          },
          "metadata": {
            "tags": [],
            "needs_background": "light"
          }
        },
        {
          "output_type": "display_data",
          "data": {
            "image/png": "[encoded data removed]",
            "text/plain": [
              "<Figure size 432x288 with 1 Axes>"
            ]
          },
          "metadata": {
            "tags": [],
            "needs_background": "light"
          }
        },
        {
          "output_type": "display_data",
          "data": {
            "image/png": "[encoded data removed]",
            "text/plain": [
              "<Figure size 432x288 with 1 Axes>"
            ]
          },
          "metadata": {
            "tags": [],
            "needs_background": "light"
          }
        },
        {
          "output_type": "display_data",
          "data": {
            "image/png": "[encoded data removed]",
            "text/plain": [
              "<Figure size 432x288 with 1 Axes>"
            ]
          },
          "metadata": {
            "tags": [],
            "needs_background": "light"
          }
        },
        {
          "output_type": "display_data",
          "data": {
            "image/png": "[encoded data removed]",
            "text/plain": [
              "<Figure size 432x288 with 1 Axes>"
            ]
          },
          "metadata": {
            "tags": [],
            "needs_background": "light"
          }
        },
        {
          "output_type": "display_data",
          "data": {
            "image/png": "[encoded data removed]",
            "text/plain": [
              "<Figure size 432x288 with 1 Axes>"
            ]
          },
          "metadata": {
            "tags": [],
            "needs_background": "light"
          }
        },
        {
          "output_type": "display_data",
          "data": {
            "image/png": "[encoded data removed]",
            "text/plain": [
              "<Figure size 432x288 with 1 Axes>"
            ]
          },
          "metadata": {
            "tags": [],
            "needs_background": "light"
          }
        },
        {
          "output_type": "display_data",
          "data": {
            "image/png": "[encoded data removed]",
            "text/plain": [
              "<Figure size 432x288 with 1 Axes>"
            ]
          },
          "metadata": {
            "tags": [],
            "needs_background": "light"
          }
        },
        {
          "output_type": "display_data",
          "data": {
            "image/png": "[encoded data removed]",
            "text/plain": [
              "<Figure size 432x288 with 1 Axes>"
            ]
          },
          "metadata": {
            "tags": [],
            "needs_background": "light"
          }
        },
        {
          "output_type": "display_data",
          "data": {
            "image/png": "[encoded data removed]",
            "text/plain": [
              "<Figure size 432x288 with 1 Axes>"
            ]
          },
          "metadata": {
            "tags": [],
            "needs_background": "light"
          }
        },
        {
          "output_type": "display_data",
          "data": {
            "image/png": "[encoded data removed]",
            "text/plain": [
              "<Figure size 432x288 with 1 Axes>"
            ]
          },
          "metadata": {
            "tags": [],
            "needs_background": "light"
          }
        },
        {
          "output_type": "display_data",
          "data": {
            "image/png": "[encoded data removed]",
            "text/plain": [
              "<Figure size 432x288 with 1 Axes>"
            ]
          },
          "metadata": {
            "tags": [],
            "needs_background": "light"
          }
        },
        {
          "output_type": "display_data",
          "data": {
            "image/png": "[encoded data removed]",
            "text/plain": [
              "<Figure size 432x288 with 1 Axes>"
            ]
          },
          "metadata": {
            "tags": [],
            "needs_background": "light"
          }
        },
        {
          "output_type": "display_data",
          "data": {
            "image/png": "[encoded data removed]",
            "text/plain": [
              "<Figure size 432x288 with 1 Axes>"
            ]
          },
          "metadata": {
            "tags": [],
            "needs_background": "light"
          }
        },
        {
          "output_type": "display_data",
          "data": {
            "image/png": "[encoded data removed]",
            "text/plain": [
              "<Figure size 432x288 with 1 Axes>"
            ]
          },
          "metadata": {
            "tags": [],
            "needs_background": "light"
          }
        },
        {
          "output_type": "display_data",
          "data": {
            "image/png": "[encoded data removed]",
            "text/plain": [
              "<Figure size 432x288 with 1 Axes>"
            ]
          },
          "metadata": {
            "tags": [],
            "needs_background": "light"
          }
        },
        {
          "output_type": "display_data",
          "data": {
            "image/png": "[encoded data removed]",
            "text/plain": [
              "<Figure size 432x288 with 1 Axes>"
            ]
          },
          "metadata": {
            "tags": [],
            "needs_background": "light"
          }
        },
        {
          "output_type": "display_data",
          "data": {
            "image/png": "[encoded data removed]",
            "text/plain": [
              "<Figure size 432x288 with 1 Axes>"
            ]
          },
          "metadata": {
            "tags": [],
            "needs_background": "light"
          }
        },
        {
          "output_type": "display_data",
          "data": {
            "image/png": "[encoded data removed]",
            "text/plain": [
              "<Figure size 432x288 with 1 Axes>"
            ]
          },
          "metadata": {
            "tags": [],
            "needs_background": "light"
          }
        },
        {
          "output_type": "display_data",
          "data": {
            "image/png": "[encoded data removed]",
            "text/plain": [
              "<Figure size 432x288 with 1 Axes>"
            ]
          },
          "metadata": {
            "tags": [],
            "needs_background": "light"
          }
        },
        {
          "output_type": "display_data",
          "data": {
            "image/png": "[encoded data removed]",
            "text/plain": [
              "<Figure size 432x288 with 1 Axes>"
            ]
          },
          "metadata": {
            "tags": [],
            "needs_background": "light"
          }
        },
        {
          "output_type": "display_data",
          "data": {
            "image/png": "[encoded data removed]",
            "text/plain": [
              "<Figure size 432x288 with 1 Axes>"
            ]
          },
          "metadata": {
            "tags": [],
            "needs_background": "light"
          }
        },
        {
          "output_type": "display_data",
          "data": {
            "image/png": "[encoded data removed]",
            "text/plain": [
              "<Figure size 432x288 with 1 Axes>"
            ]
          },
          "metadata": {
            "tags": [],
            "needs_background": "light"
          }
        },
        {
          "output_type": "display_data",
          "data": {
            "image/png": "[encoded data removed]",
            "text/plain": [
              "<Figure size 432x288 with 1 Axes>"
            ]
          },
          "metadata": {
            "tags": [],
            "needs_background": "light"
          }
        },
        {
          "output_type": "display_data",
          "data": {
            "image/png": "[encoded data removed]",
            "text/plain": [
              "<Figure size 432x288 with 1 Axes>"
            ]
          },
          "metadata": {
            "tags": [],
            "needs_background": "light"
          }
        },
        {
          "output_type": "display_data",
          "data": {
            "image/png": "[encoded data removed]",
            "text/plain": [
              "<Figure size 432x288 with 1 Axes>"
            ]
          },
          "metadata": {
            "tags": [],
            "needs_background": "light"
          }
        },
        {
          "output_type": "display_data",
          "data": {
            "image/png": "[encoded data removed]",
            "text/plain": [
              "<Figure size 432x288 with 1 Axes>"
            ]
          },
          "metadata": {
            "tags": [],
            "needs_background": "light"
          }
        },
        {
          "output_type": "display_data",
          "data": {
            "image/png": "[encoded data removed]",
            "text/plain": [
              "<Figure size 432x288 with 1 Axes>"
            ]
          },
          "metadata": {
            "tags": [],
            "needs_background": "light"
          }
        },
        {
          "output_type": "display_data",
          "data": {
            "image/png": "[encoded data removed]",
            "text/plain": [
              "<Figure size 432x288 with 1 Axes>"
            ]
          },
          "metadata": {
            "tags": [],
            "needs_background": "light"
          }
        },
        {
          "output_type": "display_data",
          "data": {
            "image/png": "[encoded data removed]",
            "text/plain": [
              "<Figure size 432x288 with 1 Axes>"
            ]
          },
          "metadata": {
            "tags": [],
            "needs_background": "light"
          }
        },
        {
          "output_type": "display_data",
          "data": {
            "image/png": "[encoded data removed]",
            "text/plain": [
              "<Figure size 432x288 with 1 Axes>"
            ]
          },
          "metadata": {
            "tags": [],
            "needs_background": "light"
          }
        },
        {
          "output_type": "display_data",
          "data": {
            "image/png": "[encoded data removed]",
            "text/plain": [
              "<Figure size 432x288 with 1 Axes>"
            ]
          },
          "metadata": {
            "tags": [],
            "needs_background": "light"
          }
        },
        {
          "output_type": "display_data",
          "data": {
            "image/png": "[encoded data removed]",
            "text/plain": [
              "<Figure size 432x288 with 1 Axes>"
            ]
          },
          "metadata": {
            "tags": [],
            "needs_background": "light"
          }
        },
        {
          "output_type": "display_data",
          "data": {
            "image/png": "[encoded data removed]",
            "text/plain": [
              "<Figure size 432x288 with 1 Axes>"
            ]
          },
          "metadata": {
            "tags": [],
            "needs_background": "light"
          }
        },
        {
          "output_type": "display_data",
          "data": {
            "image/png": "[encoded data removed]",
            "text/plain": [
              "<Figure size 432x288 with 1 Axes>"
            ]
          },
          "metadata": {
            "tags": [],
            "needs_background": "light"
          }
        },
        {
          "output_type": "display_data",
          "data": {
            "image/png": "[encoded data removed]",
            "text/plain": [
              "<Figure size 432x288 with 1 Axes>"
            ]
          },
          "metadata": {
            "tags": [],
            "needs_background": "light"
          }
        },
        {
          "output_type": "display_data",
          "data": {
            "image/png": "[encoded data removed]",
            "text/plain": [
              "<Figure size 432x288 with 1 Axes>"
            ]
          },
          "metadata": {
            "tags": [],
            "needs_background": "light"
          }
        },
        {
          "output_type": "display_data",
          "data": {
            "image/png": "[encoded data removed]",
            "text/plain": [
              "<Figure size 432x288 with 1 Axes>"
            ]
          },
          "metadata": {
            "tags": [],
            "needs_background": "light"
          }
        },
        {
          "output_type": "display_data",
          "data": {
            "image/png": "[encoded data removed]",
            "text/plain": [
              "<Figure size 432x288 with 1 Axes>"
            ]
          },
          "metadata": {
            "tags": [],
            "needs_background": "light"
          }
        },
        {
          "output_type": "display_data",
          "data": {
            "image/png": "[encoded data removed]",
            "text/plain": [
              "<Figure size 432x288 with 1 Axes>"
            ]
          },
          "metadata": {
            "tags": [],
            "needs_background": "light"
          }
        },
        {
          "output_type": "display_data",
          "data": {
            "image/png": "[encoded data removed]",
            "text/plain": [
              "<Figure size 432x288 with 1 Axes>"
            ]
          },
          "metadata": {
            "tags": [],
            "needs_background": "light"
          }
        },
        {
          "output_type": "display_data",
          "data": {
            "image/png": "[encoded data removed]",
            "text/plain": [
              "<Figure size 432x288 with 1 Axes>"
            ]
          },
          "metadata": {
            "tags": [],
            "needs_background": "light"
          }
        },
        {
          "output_type": "display_data",
          "data": {
            "image/png": "[encoded data removed]",
            "text/plain": [
              "<Figure size 432x288 with 1 Axes>"
            ]
          },
          "metadata": {
            "tags": [],
            "needs_background": "light"
          }
        },
        {
          "output_type": "display_data",
          "data": {
            "image/png": "[encoded data removed]",
            "text/plain": [
              "<Figure size 432x288 with 1 Axes>"
            ]
          },
          "metadata": {
            "tags": [],
            "needs_background": "light"
          }
        },
        {
          "output_type": "display_data",
          "data": {
            "image/png": "[encoded data removed]",
            "text/plain": [
              "<Figure size 432x288 with 1 Axes>"
            ]
          },
          "metadata": {
            "tags": [],
            "needs_background": "light"
          }
        },
        {
          "output_type": "display_data",
          "data": {
            "image/png": "[encoded data removed]",
            "text/plain": [
              "<Figure size 432x288 with 1 Axes>"
            ]
          },
          "metadata": {
            "tags": [],
            "needs_background": "light"
          }
        },
        {
          "output_type": "display_data",
          "data": {
            "image/png": "[encoded data removed]",
            "text/plain": [
              "<Figure size 432x288 with 1 Axes>"
            ]
          },
          "metadata": {
            "tags": [],
            "needs_background": "light"
          }
        },
        {
          "output_type": "display_data",
          "data": {
            "image/png": "[encoded data removed]",
            "text/plain": [
              "<Figure size 432x288 with 1 Axes>"
            ]
          },
          "metadata": {
            "tags": [],
            "needs_background": "light"
          }
        },
        {
          "output_type": "display_data",
          "data": {
            "image/png": "[encoded data removed]",
            "text/plain": [
              "<Figure size 432x288 with 1 Axes>"
            ]
          },
          "metadata": {
            "tags": [],
            "needs_background": "light"
          }
        },
        {
          "output_type": "display_data",
          "data": {
            "image/png": "[encoded data removed]",
            "text/plain": [
              "<Figure size 432x288 with 1 Axes>"
            ]
          },
          "metadata": {
            "tags": [],
            "needs_background": "light"
          }
        },
        {
          "output_type": "display_data",
          "data": {
            "image/png": "[encoded data removed]",
            "text/plain": [
              "<Figure size 432x288 with 1 Axes>"
            ]
          },
          "metadata": {
            "tags": [],
            "needs_background": "light"
          }
        },
        {
          "output_type": "display_data",
          "data": {
            "image/png": "[encoded data removed]",
            "text/plain": [
              "<Figure size 432x288 with 1 Axes>"
            ]
          },
          "metadata": {
            "tags": [],
            "needs_background": "light"
          }
        },
        {
          "output_type": "display_data",
          "data": {
            "image/png": "[encoded data removed]",
            "text/plain": [
              "<Figure size 432x288 with 1 Axes>"
            ]
          },
          "metadata": {
            "tags": [],
            "needs_background": "light"
          }
        },
        {
          "output_type": "display_data",
          "data": {
            "image/png": "[encoded data removed]",
            "text/plain": [
              "<Figure size 432x288 with 1 Axes>"
            ]
          },
          "metadata": {
            "tags": [],
            "needs_background": "light"
          }
        },
        {
          "output_type": "display_data",
          "data": {
            "image/png": "[encoded data removed]",
            "text/plain": [
              "<Figure size 432x288 with 1 Axes>"
            ]
          },
          "metadata": {
            "tags": [],
            "needs_background": "light"
          }
        },
        {
          "output_type": "display_data",
          "data": {
            "image/png": "[encoded data removed]",
            "text/plain": [
              "<Figure size 432x288 with 1 Axes>"
            ]
          },
          "metadata": {
            "tags": [],
            "needs_background": "light"
          }
        },
        {
          "output_type": "display_data",
          "data": {
            "image/png": "[encoded data removed]",
            "text/plain": [
              "<Figure size 432x288 with 1 Axes>"
            ]
          },
          "metadata": {
            "tags": [],
            "needs_background": "light"
          }
        },
        {
          "output_type": "display_data",
          "data": {
            "image/png": "[encoded data removed]",
            "text/plain": [
              "<Figure size 432x288 with 1 Axes>"
            ]
          },
          "metadata": {
            "tags": [],
            "needs_background": "light"
          }
        },
        {
          "output_type": "display_data",
          "data": {
            "image/png": "[encoded data removed]",
            "text/plain": [
              "<Figure size 432x288 with 1 Axes>"
            ]
          },
          "metadata": {
            "tags": [],
            "needs_background": "light"
          }
        },
        {
          "output_type": "display_data",
          "data": {
            "image/png": "[encoded data removed]",
            "text/plain": [
              "<Figure size 432x288 with 1 Axes>"
            ]
          },
          "metadata": {
            "tags": [],
            "needs_background": "light"
          }
        },
        {
          "output_type": "display_data",
          "data": {
            "image/png": "[encoded data removed]",
            "text/plain": [
              "<Figure size 432x288 with 1 Axes>"
            ]
          },
          "metadata": {
            "tags": [],
            "needs_background": "light"
          }
        },
        {
          "output_type": "display_data",
          "data": {
            "image/png": "[encoded data removed]",
            "text/plain": [
              "<Figure size 432x288 with 1 Axes>"
            ]
          },
          "metadata": {
            "tags": [],
            "needs_background": "light"
          }
        },
        {
          "output_type": "display_data",
          "data": {
            "image/png": "[encoded data removed]",
            "text/plain": [
              "<Figure size 432x288 with 1 Axes>"
            ]
          },
          "metadata": {
            "tags": [],
            "needs_background": "light"
          }
        },
        {
          "output_type": "display_data",
          "data": {
            "image/png": "[encoded data removed]",
            "text/plain": [
              "<Figure size 432x288 with 1 Axes>"
            ]
          },
          "metadata": {
            "tags": [],
            "needs_background": "light"
          }
        },
        {
          "output_type": "display_data",
          "data": {
            "image/png": "[encoded data removed]",
            "text/plain": [
              "<Figure size 432x288 with 1 Axes>"
            ]
          },
          "metadata": {
            "tags": [],
            "needs_background": "light"
          }
        },
        {
          "output_type": "display_data",
          "data": {
            "image/png": "[encoded data removed]",
            "text/plain": [
              "<Figure size 432x288 with 1 Axes>"
            ]
          },
          "metadata": {
            "tags": [],
            "needs_background": "light"
          }
        },
        {
          "output_type": "display_data",
          "data": {
            "image/png": "[encoded data removed]",
            "text/plain": [
              "<Figure size 432x288 with 1 Axes>"
            ]
          },
          "metadata": {
            "tags": [],
            "needs_background": "light"
          }
        }
      ]
    },
    {
      "cell_type": "code",
      "metadata": {
        "id": "4_tU1l0npeM5"
      },
      "source": [
        "# frame = num_frames/frame_rate\n",
        "# xxx = np.arange(0, 19, 1/frame)\n",
        "# plt.plot(xxx, u_test)\n",
        "plt.plot(u_test)\n",
        "plt.ylim(-.01,1.1)\n",
        "plt.ylabel('prediction')\n",
        "plt.xlabel('frame number')"
      ],
      "execution_count": null,
      "outputs": []
    },
    {
      "cell_type": "code",
      "metadata": {
        "id": "25N3pb-SDGXA"
      },
      "source": [
        ""
      ],
      "execution_count": null,
      "outputs": []
    },
    {
      "cell_type": "code",
      "metadata": {
        "id": "PboSu01LDGZ4"
      },
      "source": [
        ""
      ],
      "execution_count": null,
      "outputs": []
    },
    {
      "cell_type": "code",
      "metadata": {
        "id": "PMkidkmbDGco"
      },
      "source": [
        ""
      ],
      "execution_count": null,
      "outputs": []
    },
    {
      "cell_type": "code",
      "metadata": {
        "id": "fH_H-f9UDGfK"
      },
      "source": [
        ""
      ],
      "execution_count": null,
      "outputs": []
    },
    {
      "cell_type": "code",
      "metadata": {
        "id": "VYpru1xjDGkl"
      },
      "source": [
        ""
      ],
      "execution_count": null,
      "outputs": []
    },
    {
      "cell_type": "code",
      "metadata": {
        "id": "0IycmyI1DGnk"
      },
      "source": [
        ""
      ],
      "execution_count": null,
      "outputs": []
    },
    {
      "cell_type": "markdown",
      "metadata": {
        "id": "yzfSogJ66WnY"
      },
      "source": [
        "Finding youtube videos"
      ]
    },
    {
      "cell_type": "code",
      "metadata": {
        "id": "0FJ6NTx60xL-"
      },
      "source": [
        "\n",
        "#Search for Youtube videos\n",
        "!pip install pytube\n",
        "!pip install youtubesearchpython\n",
        "# from youtubesearchpython import VideosSearch\n",
        "!pip install youtube_searchimport os\n",
        "# from youtube_search import YoutubeSearch\n",
        "from pytube import YouTube\n",
        "!pip install youtube-search-python\n",
        "from youtubesearchpython import VideosSearch\n",
        "!pip install youtube_dl\n",
        "from __future__ import unicode_literals\n",
        "import youtube_dl\n"
      ],
      "execution_count": null,
      "outputs": []
    },
    {
      "cell_type": "code",
      "metadata": {
        "id": "GiPiMiqg0HQe"
      },
      "source": [
        "import pytube  \n",
        "from pytube import YouTube  \n",
        "import urllib.request\n",
        "import requests\n",
        "# yt = YouTube(\"https://www.youtube.com/watch?v=n06H7OcPd-g\")\n",
        "# yt = yt.get('mp4', '720p')\n",
        "# yt.download('/path/to/download/directory')\n",
        "searchIDs=['pick up something','lift something floor','messy room','house cleaning']\n",
        "# os.chdir(\"/content/drive/My Drive/CSCE636/3_test_Youtube\")\n",
        "downVid=[]\n",
        "for searchID in searchIDs:\n",
        "    vidSearch = VideosSearch(searchID, limit=5)\n",
        "    print(searchID)\n",
        "    for i in range(0, 5):\n",
        "      id=vidSearch.result()['result'][i]['id']\n",
        "      url='https://www.youtube.com/watch?v='+id\n",
        "      print('https://www.youtube.com/watch?v='+id)\n",
        "      youtube = pytube.YouTube(url)  \n",
        "      video = youtube.streams.first()  \n",
        "      video.download('/content/drive/My Drive/CSCE636/10_test')   \n",
        "    # with open(\"/content/gdrive/My Drive/CSCE636/3_test_Youtube\", \"wb\") as file: \n",
        "    #   for block in r.iter_content(chunk_size = 1024):\n",
        "    #       if block: \n",
        "    #           file.write(block) "
      ],
      "execution_count": null,
      "outputs": []
    },
    {
      "cell_type": "code",
      "metadata": {
        "id": "Ltu_zQDC4N8P"
      },
      "source": [
        "def json(dest):\n",
        "\n",
        "    jsonData=[]\n",
        "    jsonContent=[]\n",
        "    for idx,element in enumerate(testVideos):\n",
        "        if testPrediction[idx]>=modelThreshold:\n",
        "            jsonData.append([element[0],element[2]+1,element[2]+3,testPrediction[idx]])\n",
        "    print(len(jsonData))\n",
        "    for element in jsonData:\n",
        "        jsonContent.append({\"videoId\":element[0],\n",
        "                            \"type\":\"segment\",\n",
        "                            \"startTime\":element[1],\n",
        "                            \"endTime\":element[2],\n",
        "                            \"observer\":\"CSCE636-Spring2021-baharealik-v10\",\n",
        "                            \"isHuman\":False,\n",
        "                            \"observation\":{\"label\":\"Pick up something from floor\",\n",
        "                                           \"labelConfidence\":str(element[3])}})\n",
        "    jsonAdd=os.path.join(dest,'Submission10.json')\n",
        "    with open(jsonAdd, 'w') as outfile:\n",
        "        json.dump(jsonContent, outfile)\n",
        "\n",
        "json(modelresult)"
      ],
      "execution_count": null,
      "outputs": []
    },
    {
      "cell_type": "code",
      "metadata": {
        "id": "c5sImiR4Q5KN"
      },
      "source": [
        "import json\n",
        "with open('Submission10_jsonContent.txt', 'w') as outfile:\n",
        "    json.dump(submission_jsonContent, outfile)"
      ],
      "execution_count": null,
      "outputs": []
    },
    {
      "cell_type": "code",
      "metadata": {
        "id": "Fo37WVVoSqJd"
      },
      "source": [
        "??random"
      ],
      "execution_count": null,
      "outputs": []
    },
    {
      "cell_type": "code",
      "metadata": {
        "id": "fRU8OOHgSrHB"
      },
      "source": [
        ""
      ],
      "execution_count": null,
      "outputs": []
    },
    {
      "cell_type": "markdown",
      "metadata": {
        "id": "eXmMOOLWDGZw"
      },
      "source": [
        ""
      ]
    }
  ]
}